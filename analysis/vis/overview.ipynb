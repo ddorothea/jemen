{
 "cells": [
  {
   "cell_type": "code",
   "execution_count": 5,
   "metadata": {},
   "outputs": [
    {
     "data": {
      "image/png": "[encoded data removed]",
      "text/plain": [
       "<Figure size 822.047x283.465 with 1 Axes>"
      ]
     },
     "metadata": {
      "needs_background": "light"
     },
     "output_type": "display_data"
    }
   ],
   "source": [
    "import json \n",
    "import matplotlib.pyplot as plt\n",
    "import numpy as np\n",
    "\n",
    "\n",
    "with open(\"overview.json\", \"r\") as f:\n",
    "    data = json.load(f)\n",
    "\n",
    "weight_counts = {}\n",
    "for i, topic in enumerate(['Kampfhandlungen', 'Humanitäre Krise', 'Verhandlungen','Militärische Unterstützung', 'Wirtschaft']):\n",
    "    weight_counts[topic] = np.array([v[i] for _, v in  data.items()])\n",
    "\n",
    "\n",
    "\n",
    "days = list(data.keys())\n",
    "width = 0.6\n",
    "\n",
    "\n",
    "fig, ax = plt.subplots()\n",
    "\n",
    "bottom = np.zeros(len(days))\n",
    "\n",
    "# pastell und blau\n",
    "# colors = [\"#F2BAC9\", \"#222A68\", \"#79B791\"]\n",
    "# mit \n",
    "# colors = [\"#F2BAC9\", \"#222A68\", \"#62929E\"]\n",
    "# colors = [\"#BDC667\", \"#222A68\", \"#62929E\"]\n",
    "#\n",
    "\n",
    "colors = [\"#643A71\", \"#96D6A3\", \"#62929E\",\"#BDC667\", \"#222A68\"]\n",
    "\n",
    "\n",
    "\n",
    "for i, pack in enumerate(weight_counts.items()):\n",
    "    boolean=pack[0]\n",
    "    weight_count=pack[1]\n",
    "    p = ax.bar(days, weight_count, width, label=boolean, bottom=bottom, color=colors[i])\n",
    "    bottom += weight_count\n",
    "\n",
    "\n",
    "ax.set_title('Themenverteilung von 2015 bis 2022')\n",
    "\n",
    "ax.legend(loc=\"upper right\")\n",
    "ax.spines['top'].set_visible(False)\n",
    "ax.spines['right'].set_visible(False)\n",
    "\n",
    "def get_hundret_percent(i):\n",
    "    result = 0\n",
    "    for _, vals in weight_counts.items():\n",
    "        result += vals[i]\n",
    "    return result \n",
    "\n",
    "def get_position(weight_counts, i, reason):\n",
    "    result = 0\n",
    "    for r, vals in weight_counts.items():\n",
    "        if r == reason:\n",
    "            break\n",
    "        else:\n",
    "            result += vals[i]\n",
    "    result += weight_counts[reason][i]/2\n",
    "    return result\n",
    "        \n",
    "\n",
    "\n",
    "# for i, day in enumerate(days):\n",
    "#     hundret = get_hundret_percent(i)\n",
    "#     num = sum([x[i] for x in weight_counts.values()])\n",
    "#     plt.text(i , num + 0.5 , \"$n$ = \" + str(num) , \n",
    "#                             va = 'center', ha = 'center', rotation = 0, fontsize = 10\n",
    "#                             )\n",
    "\n",
    "#     for reason in weight_counts.keys():\n",
    "#         percentage = weight_counts[reason][i]/hundret * 100\n",
    "#         perc_string = str(np.round(percentage, 1))+ '%'\n",
    "#         pos = get_position(weight_counts, i, reason)\n",
    "#         if perc_string != \"0.0%\":\n",
    "#             if reason != \"Hunger\" and reason != \"Spenden\":\n",
    "#                 plt.text(i , pos , perc_string , \n",
    "#                             va = 'center', ha = 'center', rotation = 0, fontsize = 10\n",
    "#                             )\n",
    "#             else:\n",
    "#                 plt.text(i , pos , perc_string , \n",
    "#                             va = 'center', ha = 'center', rotation = 0, fontsize = 10, color=\"white\"\n",
    "#                             )\n",
    "                \n",
    "\n",
    "cm = 1/2.54  # centimeters in inches\n",
    "\n",
    "fig.set_figheight(10 * cm)\n",
    "\n",
    "fig.set_figwidth(29 * cm )\n",
    "plt.xticks(rotation = 60, fontsize=5) # Rotates X-Axis Ticks by 45-degrees\n",
    "\n",
    "plt.xlabel(\"Monat\")\n",
    "plt.ylabel(\"Artikelanzahl\")\n",
    "plt.xlim([-1, 89])\n",
    "\n",
    "\n",
    "ax.set_axisbelow(True)\n",
    "plt.legend(prop={'size': 8})\n",
    "\n",
    "plt.grid(axis=\"y\", which=\"major\", linestyle=\"-\", color='#f0f0f0')\n",
    "plt.tight_layout()\n",
    "plt.savefig('overview.pdf', dpi=200, bbox_inches='tight')\n",
    "\n"
   ]
  }
 ],
 "metadata": {
  "kernelspec": {
   "display_name": "jemen-scraper",
   "language": "python",
   "name": "python3"
  },
  "language_info": {
   "codemirror_mode": {
    "name": "ipython",
    "version": 3
   },
   "file_extension": ".py",
   "mimetype": "text/x-python",
   "name": "python",
   "nbconvert_exporter": "python",
   "pygments_lexer": "ipython3",
   "version": "3.10.4"
  },
  "orig_nbformat": 4,
  "vscode": {
   "interpreter": {
    "hash": "c05e784c37b7486e763435563ea73fc5884b3661493573245e31e915d866c156"
   }
  }
 },
 "nbformat": 4,
 "nbformat_minor": 2
}
