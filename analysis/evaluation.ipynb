{
 "cells": [
  {
   "cell_type": "code",
   "execution_count": 25,
   "metadata": {},
   "outputs": [],
   "source": [
    "cluster = {\"kampfhandlungen\": [\"angriff\", \"luftangriff\", \"militaereinsatz\", \"töten\", \"tote\", \"zivilist\", \"schule\", \"krankenhaus\", \"offensive\", \"explosion\", \"is\", \"alqaida\", \"anschlaege\", \"militaeraktion\", \"aqap\", \"aqpa\", \"terrormiliz\", \"bus\", \"attentäter\", \"bombenanschläge\", \"bombardement\", \"bekennerschreiben\", \"tat\", \"angriff\", \"moschee\", \"gotteshaus\", \"flächenbrand\", \"entschlossen\", \"vorgehen\", \"streitkarft\", \"widerstand\", \"präsidentenpalast\", \"aufstandsbewegung\"],\n",
    "    \"militaerische-unterstuetzung\": [\"kriegsteilnehmer\", \"kriegsparteien\", \"soldat\", \"bodentruppen\", \"transporter\", \"panzerabwehrraket\", \"waffenlieferungen\", \"gefechts\", \"soldat\", \"kairo\", \"aegypten\", \"bahrain\", \"jordanien\", \"senator\", \"senat\", \"kongress\", \"kammer\", \"veto\", \"pakistan\", \"islamabad\", \"nawaz\", \"sharif\", \"unterstützung\"],\n",
    "    \"verhandlungen\": [\"verhandlungstisch\", \"feuerpause\", \"gesprächen\", \"gefangenen\", \"merkel\", \"austausch\", \"vertreter\", \"waffenruhe\", \"waffenstillstand\", \"kriegsteilnehmer\", \"konsultationen\", \"autonomie\", \"erklärung\"],\n",
    "    \"humanitaer-klima\": [\"meteorologie\", \"wmo\", \"überschwemmungen\", \"regensaison\", \"sturm\", \"wirbelsturm\", \"zyklon\", \"super-zyklon\"],\n",
    "    \"humanitaer-hunger\": [\"ernaehrungshilfe\", \"wfp\", \"unterernährung\", \"blockade\", \"hungern\", \"nahrungsmangel\", \"unwetter\", \"tragödie\", \"katastrophe\", \"arm\", \"terrorli\", \"blockade\", \"sanktion\", \"welthungerhilfe\"],\n",
    "    \"humanitaer-krankheiten\": [\"pandemie\", \"epidemie\", \"cholera\", \"coronavirus\", \"corona\", \"who\", \"ausbruch\", \"anstecken\", \"hygiene\"],\n",
    "    \"humanitaer-flucht\": [\"unhcr\", \"flüchtlingswerk\", \"flucht\", \"migration\", \"heimatländer\", \"somalia\", \"äthiopien\", \"schlepper\", \"belarus\", \"polen\", \"kenteren\", \"boot\", \"flüchtlingsboote\", \"ertrinken\", \"migrant\", \"iom\", \"flüchtling\", \"flüchtlingslager\"],\n",
    "    \"humanitaer_Hilfe\": [\"geberkonferenz\", \"geld\", \"weltgemeinschaft\", \"zielgröße\", \"milliarde\", \"zusagen\", \"hilfe\"],\n",
    "    \"wirtschaft\": [\"währungsverfall\", \"export\", \"qat\", \"konsum\", \"luxusgüter\", \"handel\"]}"
   ]
  },
  {
   "cell_type": "code",
   "execution_count": 26,
   "metadata": {},
   "outputs": [],
   "source": [
    "import pandas as pd\n",
    "classified = pd.read_csv(\"classified_keywords_for_real.tsv\", sep = \"\\t\").to_dict(\"records\") + pd.read_csv(\"classified_keywords.tsv\", sep = \"\\t\").to_dict(\"records\") + pd.read_csv(\"classified_final_keywords_definitely.tsv\", sep = \"\\t\").to_dict(\"records\")\n",
    "\n",
    "\n",
    "for row in classified:\n",
    "    if row[\"score\"] == 1:\n",
    "        cluster[\"kampfhandlungen\"].append(row[\"keywords\"])\n",
    "    elif row[\"score\"] == 2:\n",
    "        cluster[\"verhandlungen\"].append(row[\"keywords\"])\n",
    "    elif row[\"score\"] == 3:\n",
    "        cluster[\"humanitaer-klima\"].append(row[\"keywords\"])\n",
    "    elif row[\"score\"] == 4:\n",
    "        cluster[\"humanitaer-hunger\"].append(row[\"keywords\"])\n",
    "    elif row[\"score\"] == 5:\n",
    "        cluster[\"humanitaer-krankheiten\"].append(row[\"keywords\"])\n",
    "    elif row[\"score\"] == 6:\n",
    "        cluster[\"humanitaer_Hilfe\"].append(row[\"keywords\"])\n",
    "    elif row[\"score\"] == 7:\n",
    "        cluster[\"militaerische-unterstuetzung\"].append(row[\"keywords\"])\n",
    "    elif row[\"score\"] == 8:\n",
    "        cluster[\"wirtschaft\"].append(row[\"keywords\"])\n",
    "    elif row[\"score\"] == 9:\n",
    "        cluster[\"humanitaer-flucht\"].append(row[\"keywords\"])\n"
   ]
  },
  {
   "cell_type": "code",
   "execution_count": 27,
   "metadata": {},
   "outputs": [],
   "source": [
    "import json\n",
    "\n",
    "with open(\"../analysis/corpus.json\", \"r\") as file: \n",
    "    corpus = json.load(file)\n",
    "\n",
    "from difflib import SequenceMatcher\n",
    "\n",
    "def similar(a, b):\n",
    "    return SequenceMatcher(None, a, b).ratio()\n"
   ]
  },
  {
   "cell_type": "code",
   "execution_count": 28,
   "metadata": {},
   "outputs": [
    {
     "name": "stdout",
     "output_type": "stream",
     "text": [
      "208\n",
      "58\n",
      "80\n",
      "23\n",
      "65\n",
      "40\n",
      "20\n",
      "23\n",
      "18\n"
     ]
    }
   ],
   "source": [
    "for k, v in cluster.items():\n",
    "    print(len(v))"
   ]
  },
  {
   "cell_type": "code",
   "execution_count": 29,
   "metadata": {},
   "outputs": [],
   "source": [
    "cluster_based_on_similarity = {}\n",
    "for topic, keywords in cluster.items():\n",
    "    cluster_based_on_similarity[topic] = keywords.copy()\n",
    "    for i, article in enumerate(corpus):\n",
    "        for topic_kw in keywords:\n",
    "            for article_kw in article[\"keywords\"].keys():\n",
    "                if article_kw not in cluster_based_on_similarity[topic]:\n",
    "                    score = similar(topic_kw, article_kw)\n",
    "                    if score > 0.8:\n",
    "                        cluster_based_on_similarity[topic] += [article_kw]\n",
    "                        "
   ]
  },
  {
   "cell_type": "code",
   "execution_count": 30,
   "metadata": {},
   "outputs": [],
   "source": [
    "articles_with_topics = []\n",
    "\n",
    "for article in corpus:\n",
    "    article_kw = article[\"keywords\"].keys()\n",
    "    tmp_article_with_topic = {\"id\": article[\"id\"], \"title\": article[\"title\"]}\n",
    "    for topic, topic_keywords in cluster_based_on_similarity.items(): \n",
    "        tmp_article_with_topic[topic] = len([kw for kw in article_kw if kw in topic_keywords])\n",
    "    articles_with_topics.append(tmp_article_with_topic)    \n",
    "\n",
    "\n"
   ]
  },
  {
   "cell_type": "code",
   "execution_count": 31,
   "metadata": {},
   "outputs": [],
   "source": [
    "import pandas as pd\n",
    "cluster_per_article = pd.DataFrame(articles_with_topics)\n",
    "\n",
    "classified = cluster_per_article[(cluster_per_article[\"militaerische-unterstuetzung\"]>0)|(cluster_per_article[\"verhandlungen\"]>0)|(cluster_per_article[\"kampfhandlungen\"]>0)|(cluster_per_article[\"humanitaer-klima\"]>0)|(cluster_per_article[\"humanitaer-hunger\"]>0)|(cluster_per_article[\"humanitaer-krankheiten\"]>0)|(cluster_per_article[\"humanitaer_Hilfe\"]>0)|(cluster_per_article[\"humanitaer-flucht\"]>0)|(cluster_per_article[\"wirtschaft\"]>0)]\n",
    "not_classified = cluster_per_article[(cluster_per_article[\"militaerische-unterstuetzung\"]==0)&(cluster_per_article[\"verhandlungen\"]==0)&(cluster_per_article[\"kampfhandlungen\"]==0)&(cluster_per_article[\"humanitaer-klima\"]==0)&(cluster_per_article[\"humanitaer-hunger\"]==0)&(cluster_per_article[\"humanitaer-krankheiten\"]==0)&(cluster_per_article[\"humanitaer_Hilfe\"]==0)&(cluster_per_article[\"humanitaer-flucht\"]==0)&(cluster_per_article[\"wirtschaft\"]==0)]\n",
    "\n"
   ]
  },
  {
   "cell_type": "code",
   "execution_count": 33,
   "metadata": {},
   "outputs": [],
   "source": [
    "classified.to_csv(\"articles_with_cluster.tsv\", sep = \"\\t\", index=False)"
   ]
  },
  {
   "cell_type": "code",
   "execution_count": 11,
   "metadata": {},
   "outputs": [],
   "source": [
    "not_classified_corpus = []\n",
    "flucht = []\n",
    "\n",
    "for article in corpus:\n",
    "    if article[\"id\"] in not_classified[\"id\"]:\n",
    "        if \"flucht\" in article[\"title\"].lower().replace(\"ü\", \"u\"):\n",
    "            flucht.append(article)\n",
    "        else:\n",
    "            not_classified_corpus.append(article)\n",
    "        \n",
    "        \n",
    "\n",
    "sample = pd.DataFrame(not_classified_corpus).sample(20)\n",
    "pd.concat([sample, pd.DataFrame(flucht)]).to_csv(\"articles_not_yet_classified.tsv\", sep= \"\\t\", index=False)"
   ]
  },
  {
   "cell_type": "code",
   "execution_count": 18,
   "metadata": {},
   "outputs": [],
   "source": [
    "not_classified = []\n",
    "for kw in pd.DataFrame(not_classified_corpus)[\"keywords\"]:\n",
    "    not_classified += list(kw.keys())\n",
    "\n",
    "pd.DataFrame({\"keywords\": list(set(not_classified))}).to_csv(\"final_keywords_definitely.tsv\", sep = \"\\t\", index=False)\n",
    "\n"
   ]
  },
  {
   "cell_type": "code",
   "execution_count": 13,
   "metadata": {},
   "outputs": [],
   "source": [
    "kw_not_classified = []\n",
    "for article in corpus:\n",
    "    if article[\"id\"] in not_classified[\"id\"]:\n",
    "        kw_not_classified += list(article[\"keywords\"].keys())"
   ]
  },
  {
   "cell_type": "code",
   "execution_count": 14,
   "metadata": {},
   "outputs": [],
   "source": [
    "pd.DataFrame({\"keywords\": list(set(kw_not_classified))}).to_csv(\"keywords_to_classify_for_real.tsv\", sep=\"\\t\", index=False)"
   ]
  },
  {
   "cell_type": "code",
   "execution_count": 15,
   "metadata": {},
   "outputs": [
    {
     "name": "stdout",
     "output_type": "stream",
     "text": [
      "{'title': 'Waffenruhe in Jemen', 'link': 'https://archiv.szarchiv.de/Portal/restricted/Start.act?articleId=A68925841', 'date': '19.10.2016', 'abstract': 'New York - Die Vereinten Nationen haben eine neue Waffenruhe im\\nBürgerkrieg in Jemen angekündigt. Von Mittwoch, 22.59 Uhr Ortszeit, an\\nwürden die Waffen schweigen, teilte der UN-Sonderbeauftragte für Jemen,\\nIsmail Ould Sheikh Ahmed, mit. Alle Beteiligten hätten zugesagt, sich\\ndaran zu halten. Die Ruhe gelte zunächst für 72 Stunden mit Option auf\\n ...', 'author': '', 'surtitle': 'AUSLAND', 'source': 'SZ', 'id': 678, 'text': 'AUSLAND\\nWaffenruhe in Jemen\\nNew York – Die Vereinten Nationen haben eine neue Waffenruhe im Bürgerkrieg in Jemen angekündigt. Von Mittwoch, 22.59 Uhr Ortszeit, an würden die Waffen schweigen, teilte der UN-Sonderbeauftragte für Jemen, Ismail Ould Sheikh Ahmed, mit. Alle Beteiligten hätten zugesagt, sich daran zu halten. Die Ruhe gelte zunächst für 72 Stunden mit Option auf Verlängerung. In Jemen kämpfen schiitische Huthi gegen die von den sunnitischen Golfmonarchien und den USA unterstützte sunnitische Regierung. Eine saudisch geführte Koalition fliegt Luftangriffe, seit März 2015 sind mehr als 4000 Zivilisten getötet worden.   DPA', 'preprocessed_text': 'ausland waffenruhen new york nation waffenruhe bürgerkrieg jemen ankündigen mittwoch uhr ortszeit waffe schweigen teilen un-sonderbeauftragte jemen isl ould sheikh ahmed beteiligter zusagen halten ruhe gelten stunde option verlängerung kämpfen huthi golfmonarchie usa regierung koalition fliegen luftangriffen märz zivilist töten dpa waffenruhen ausland', 'keywords': {'waffenruhen': 0.3585259042064651, 'ausland': 0.25420765098521286, 'sheikh': 0.22552928263657177, 'golfmonarchie': 0.22013426624892077, 'verlängerung': 0.21537552453984363, 'sonderbeauftragte': 0.2037524188056364, 'option': 0.19473683758179677, 'ruhe': 0.19473683758179677, 'ortszeit': 0.19212931307142922, 'schweigen': 0.19212931307142922}}\n"
     ]
    }
   ],
   "source": [
    "for article in corpus:\n",
    "    if article[\"id\"] == 678:\n",
    "        print(article)"
   ]
  },
  {
   "cell_type": "code",
   "execution_count": 34,
   "metadata": {},
   "outputs": [
    {
     "data": {
      "text/plain": [
       "141"
      ]
     },
     "execution_count": 34,
     "metadata": {},
     "output_type": "execute_result"
    }
   ],
   "source": []
  }
 ],
 "metadata": {
  "kernelspec": {
   "display_name": "jemen-scraper",
   "language": "python",
   "name": "python3"
  },
  "language_info": {
   "codemirror_mode": {
    "name": "ipython",
    "version": 3
   },
   "file_extension": ".py",
   "mimetype": "text/x-python",
   "name": "python",
   "nbconvert_exporter": "python",
   "pygments_lexer": "ipython3",
   "version": "3.10.4"
  },
  "orig_nbformat": 4,
  "vscode": {
   "interpreter": {
    "hash": "c05e784c37b7486e763435563ea73fc5884b3661493573245e31e915d866c156"
   }
  }
 },
 "nbformat": 4,
 "nbformat_minor": 2
}
