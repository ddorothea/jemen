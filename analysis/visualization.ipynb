{
 "cells": [
  {
   "cell_type": "code",
   "execution_count": 33,
   "metadata": {},
   "outputs": [],
   "source": [
    "import pandas as pd\n",
    "import json\n",
    "\n",
    "articles = pd.read_csv(\"articles_with_cluster.tsv\", sep = \"\\t\")"
   ]
  },
  {
   "cell_type": "code",
   "execution_count": 34,
   "metadata": {},
   "outputs": [],
   "source": [
    "multiple_maxima = []\n",
    "clear_articles = []\n",
    "count_ones = 0 \n",
    "only_one_kw = 0\n",
    "\n",
    "topics = [topic for topic in articles.columns if topic not in [\"id\", \"title\"]]\n",
    "for article in articles.to_dict(\"records\"):\n",
    "    maximum = max([score for topic, score in article.items() if topic in topics])\n",
    "    if maximum == 1:\n",
    "        count_ones +=1\n",
    "    if sum([score for topic, score in article.items() if topic in topics]) == 1:\n",
    "        only_one_kw +=1\n",
    "    if list(article.values()).count(maximum)>1:\n",
    "        multiple_maxima.append(article)\n",
    "    else:\n",
    "        clear_articles.append(article)\n",
    "\n",
    "\n",
    "final_articles = clear_articles + pd.read_csv(\"classified_multiple_maxima_topics.tsv\", sep =\"\\t\").to_dict(\"records\")"
   ]
  },
  {
   "cell_type": "code",
   "execution_count": 35,
   "metadata": {},
   "outputs": [],
   "source": [
    "with open(\"corpus.json\", \"r\") as f:\n",
    "    corpus = json.load(f)\n",
    "\n",
    "def get_topic(article):\n",
    "    maximum = max([score for topic, score in article.items() if topic in topics])\n",
    " \n",
    "    for topic, score in article.items():\n",
    "        if score == maximum:\n",
    "            return topic\n",
    "            \n",
    "\n",
    "for article in final_articles:\n",
    "    article[\"topic\"] = get_topic(article)\n",
    "    for art in corpus:\n",
    "        if article[\"id\"] == art[\"id\"]:\n",
    "            article[\"date\"] = art[\"date\"]\n"
   ]
  },
  {
   "cell_type": "code",
   "execution_count": 23,
   "metadata": {},
   "outputs": [],
   "source": [
    "pd.DataFrame(multiple_maxima).to_csv(\"multiple_maxima_topics.tsv\", sep=\"\\t\", index=False)"
   ]
  }
 ],
 "metadata": {
  "kernelspec": {
   "display_name": "jemen-scraper",
   "language": "python",
   "name": "python3"
  },
  "language_info": {
   "codemirror_mode": {
    "name": "ipython",
    "version": 3
   },
   "file_extension": ".py",
   "mimetype": "text/x-python",
   "name": "python",
   "nbconvert_exporter": "python",
   "pygments_lexer": "ipython3",
   "version": "3.10.4"
  },
  "orig_nbformat": 4,
  "vscode": {
   "interpreter": {
    "hash": "c05e784c37b7486e763435563ea73fc5884b3661493573245e31e915d866c156"
   }
  }
 },
 "nbformat": 4,
 "nbformat_minor": 2
}
