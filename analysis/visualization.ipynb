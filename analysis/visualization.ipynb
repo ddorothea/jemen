{
 "cells": [
  {
   "cell_type": "code",
   "execution_count": 1,
   "metadata": {},
   "outputs": [],
   "source": [
    "import pandas as pd\n",
    "import json\n",
    "\n",
    "articles = pd.read_csv(\"articles_with_cluster.tsv\", sep = \"\\t\")"
   ]
  },
  {
   "cell_type": "code",
   "execution_count": 2,
   "metadata": {},
   "outputs": [],
   "source": [
    "multiple_maxima = []\n",
    "clear_articles = []\n",
    "count_ones = 0 \n",
    "only_one_kw = 0\n",
    "\n",
    "topics = [topic for topic in articles.columns if topic not in [\"id\", \"title\"]]\n",
    "for article in articles.to_dict(\"records\"):\n",
    "    maximum = max([score for topic, score in article.items() if topic in topics])\n",
    "    if maximum == 1:\n",
    "        count_ones +=1\n",
    "    if sum([score for topic, score in article.items() if topic in topics]) == 1:\n",
    "        only_one_kw +=1\n",
    "    if list(article.values()).count(maximum)>1:\n",
    "        multiple_maxima.append(article)\n",
    "    else:\n",
    "        clear_articles.append(article)\n",
    "\n",
    "\n",
    "final_articles = clear_articles + pd.read_csv(\"classified_multiple_maxima_topics.tsv\", sep =\"\\t\").to_dict(\"records\")"
   ]
  },
  {
   "cell_type": "code",
   "execution_count": 3,
   "metadata": {},
   "outputs": [],
   "source": [
    "with open(\"corpus.json\", \"r\") as f:\n",
    "    corpus = json.load(f)\n",
    "\n",
    "vis_corpus = []\n",
    "\n",
    "def get_topic(article):\n",
    "    maximum = max([score for topic, score in article.items() if topic in topics])\n",
    "    for topic, score in article.items():\n",
    "        if score == maximum:\n",
    "            return topic\n",
    "\n",
    "\n",
    "for article in final_articles:\n",
    "    tmp = {\"id\": article[\"id\"]}\n",
    "    tmp[\"topic\"] = get_topic(article)\n",
    "    for art in corpus:\n",
    "        if article[\"id\"] == art[\"id\"]:\n",
    "            tmp[\"date\"] = art[\"date\"]\n",
    "            vis_corpus.append(tmp)\n"
   ]
  },
  {
   "cell_type": "code",
   "execution_count": 10,
   "metadata": {},
   "outputs": [
    {
     "data": {
      "text/plain": [
       "array(['kampfhandlungen', 'humanitär', 'verhandlungen',\n",
       "       'militaerische-unterstuetzung', 'wirtschaft'], dtype=object)"
      ]
     },
     "execution_count": 10,
     "metadata": {},
     "output_type": "execute_result"
    }
   ],
   "source": [
    "pd.DataFrame(overview)[\"topic\"].unique()"
   ]
  },
  {
   "attachments": {},
   "cell_type": "markdown",
   "metadata": {},
   "source": [
    "# Aufbereitung Daten für Übersicht"
   ]
  },
  {
   "cell_type": "code",
   "execution_count": 18,
   "metadata": {},
   "outputs": [],
   "source": [
    "overview = [article.copy() for article in vis_corpus]\n",
    "\n",
    "for article in overview:\n",
    "    if \"human\" in article[\"topic\"].lower():\n",
    "        article[\"topic\"] =\"humanitär\"\n",
    "\n",
    "\n",
    "for article in overview:\n",
    "    article[\"month\"] = article[\"date\"].split(\".\")[1]\n",
    "    article[\"year\"] = article[\"date\"].split(\".\")[2]\n",
    "\n",
    "by_month = {}\n",
    "by_year = {}\n",
    "\n",
    "for year in list(range(2015, 2023)):\n",
    "    by_year[str(year)] = [0 for _ in range(5)]\n",
    "    for month in [\"0\" + str(i) for i in range(1, 10)] + [\"10\", \"11\", \"12\"]:\n",
    "        if (year == 2015 and month in [\"01\", \"02\"]) or (year == 2022 and month in [\"08\", \"09\", \"10\", \"11\", \"12\"]):\n",
    "            continue\n",
    "        by_month[f\"{month}/{year}\"] = [0 for _ in range(5)]\n",
    "\n",
    "\n",
    "for i, sub_topic in enumerate(['kampfhandlungen', 'humanitär', 'verhandlungen','militaerische-unterstuetzung', 'wirtschaft']):\n",
    "    for article in overview:\n",
    "        if sub_topic in article[\"topic\"].lower():\n",
    "             by_month[f\"{article['month']}/{article['year']}\"][i]+= 1\n",
    " \n",
    "for year in [str(y) for y in range(2015, 2023)]:\n",
    "    for mon, val_list in by_month.items():\n",
    "        if year in mon:\n",
    "            by_year[year] = [sum(x) for x in zip(by_year[year], val_list)]\n"
   ]
  },
  {
   "cell_type": "code",
   "execution_count": 21,
   "metadata": {},
   "outputs": [
    {
     "data": {
      "text/plain": [
       "{'03/2015': [28, 1, 1, 2, 5],\n",
       " '04/2015': [20, 3, 6, 7, 0],\n",
       " '05/2015': [11, 0, 7, 3, 0],\n",
       " '06/2015': [8, 0, 3, 0, 0],\n",
       " '07/2015': [7, 1, 4, 1, 0],\n",
       " '08/2015': [4, 1, 1, 0, 0],\n",
       " '09/2015': [15, 1, 1, 2, 0],\n",
       " '10/2015': [2, 1, 0, 0, 1],\n",
       " '11/2015': [0, 1, 1, 1, 0],\n",
       " '12/2015': [1, 0, 2, 0, 0],\n",
       " '01/2016': [1, 2, 2, 0, 0],\n",
       " '02/2016': [0, 0, 0, 0, 0],\n",
       " '03/2016': [6, 0, 3, 0, 0],\n",
       " '04/2016': [2, 0, 0, 0, 0],\n",
       " '05/2016': [2, 2, 0, 1, 0],\n",
       " '06/2016': [2, 1, 1, 0, 0],\n",
       " '07/2016': [0, 0, 1, 0, 0],\n",
       " '08/2016': [12, 1, 0, 0, 0],\n",
       " '09/2016': [0, 0, 0, 0, 0],\n",
       " '10/2016': [6, 1, 5, 2, 0],\n",
       " '11/2016': [0, 2, 3, 0, 0],\n",
       " '12/2016': [5, 0, 1, 2, 0],\n",
       " '01/2017': [7, 0, 0, 0, 0],\n",
       " '02/2017': [7, 0, 0, 2, 0],\n",
       " '03/2017': [3, 9, 0, 0, 0],\n",
       " '04/2017': [0, 5, 0, 0, 0],\n",
       " '05/2017': [0, 3, 1, 0, 0],\n",
       " '06/2017': [0, 3, 0, 0, 0],\n",
       " '07/2017': [1, 2, 0, 0, 0],\n",
       " '08/2017': [0, 5, 0, 0, 0],\n",
       " '09/2017': [0, 3, 1, 0, 0],\n",
       " '10/2017': [0, 1, 0, 0, 0],\n",
       " '11/2017': [3, 8, 0, 1, 0],\n",
       " '12/2017': [12, 1, 1, 0, 1],\n",
       " '01/2018': [2, 1, 0, 0, 1],\n",
       " '02/2018': [2, 2, 0, 1, 0],\n",
       " '03/2018': [4, 0, 0, 2, 0],\n",
       " '04/2018': [5, 1, 0, 0, 0],\n",
       " '05/2018': [2, 0, 0, 0, 0],\n",
       " '06/2018': [6, 2, 1, 0, 0],\n",
       " '07/2018': [1, 0, 0, 2, 0],\n",
       " '08/2018': [13, 5, 0, 1, 0],\n",
       " '09/2018': [0, 0, 3, 3, 1],\n",
       " '10/2018': [1, 6, 2, 2, 0],\n",
       " '11/2018': [5, 1, 3, 3, 0],\n",
       " '12/2018': [6, 6, 18, 4, 0],\n",
       " '01/2019': [3, 0, 3, 1, 0],\n",
       " '02/2019': [3, 5, 4, 2, 0],\n",
       " '03/2019': [0, 2, 1, 5, 0],\n",
       " '04/2019': [2, 1, 0, 4, 0],\n",
       " '05/2019': [1, 0, 0, 0, 0],\n",
       " '06/2019': [1, 0, 0, 1, 0],\n",
       " '07/2019': [0, 0, 1, 2, 0],\n",
       " '08/2019': [7, 0, 0, 0, 0],\n",
       " '09/2019': [11, 0, 2, 1, 0],\n",
       " '10/2019': [0, 0, 0, 1, 0],\n",
       " '11/2019': [0, 0, 5, 0, 0],\n",
       " '12/2019': [2, 2, 1, 2, 0],\n",
       " '01/2020': [4, 0, 0, 0, 1],\n",
       " '02/2020': [7, 1, 1, 0, 0],\n",
       " '03/2020': [0, 2, 0, 0, 0],\n",
       " '04/2020': [1, 5, 2, 1, 0],\n",
       " '05/2020': [0, 1, 0, 0, 0],\n",
       " '06/2020': [1, 7, 0, 0, 0],\n",
       " '07/2020': [0, 1, 2, 0, 0],\n",
       " '08/2020': [0, 0, 0, 0, 0],\n",
       " '09/2020': [0, 1, 0, 0, 0],\n",
       " '10/2020': [0, 1, 1, 0, 0],\n",
       " '11/2020': [1, 1, 0, 0, 0],\n",
       " '12/2020': [6, 0, 4, 0, 0],\n",
       " '01/2021': [3, 2, 0, 2, 0],\n",
       " '02/2021': [3, 1, 2, 4, 0],\n",
       " '03/2021': [4, 13, 1, 0, 0],\n",
       " '04/2021': [1, 0, 0, 0, 1],\n",
       " '05/2021': [0, 0, 0, 0, 0],\n",
       " '06/2021': [1, 0, 0, 0, 0],\n",
       " '07/2021': [3, 0, 0, 0, 0],\n",
       " '08/2021': [2, 0, 0, 0, 0],\n",
       " '09/2021': [1, 0, 0, 0, 0],\n",
       " '10/2021': [1, 3, 0, 0, 0],\n",
       " '11/2021': [0, 0, 0, 0, 0],\n",
       " '12/2021': [1, 3, 0, 0, 0],\n",
       " '01/2022': [5, 0, 0, 0, 1],\n",
       " '02/2022': [1, 0, 0, 0, 1],\n",
       " '03/2022': [4, 1, 2, 0, 0],\n",
       " '04/2022': [1, 0, 5, 0, 0],\n",
       " '05/2022': [0, 1, 0, 0, 0],\n",
       " '06/2022': [0, 0, 1, 0, 0],\n",
       " '07/2022': [0, 1, 0, 0, 0]}"
      ]
     },
     "execution_count": 21,
     "metadata": {},
     "output_type": "execute_result"
    }
   ],
   "source": [
    "by_month"
   ]
  },
  {
   "attachments": {},
   "cell_type": "markdown",
   "metadata": {},
   "source": [
    "# Aufbereitung Daten für Humanitäre Krise"
   ]
  },
  {
   "cell_type": "code",
   "execution_count": 65,
   "metadata": {},
   "outputs": [],
   "source": [
    "humanitaer = [article for article in vis_corpus if \"human\" in article[\"topic\"]]\n",
    "\n",
    "for article in humanitaer:\n",
    "    article[\"month\"] = article[\"date\"].split(\".\")[1]\n",
    "    article[\"year\"] = article[\"date\"].split(\".\")[2]\n",
    "\n",
    "by_month = {}\n",
    "by_year = {}\n",
    "\n",
    "for year in list(range(2015, 2023)):\n",
    "    by_year[str(year)] = [0 for _ in range(5)]\n",
    "    for month in [\"0\" + str(i) for i in range(1, 10)] + [\"10\", \"11\", \"12\"]:\n",
    "        by_month[f\"{month}/{year}\"] = [0 for _ in range(5)]\n",
    "\n",
    "\n",
    "for i, sub_topic in enumerate([\"hunger\", \"klima\", \"flucht\", \"krankheit\", \"hilfe\"]):\n",
    "    for article in humanitaer:\n",
    "        if sub_topic in article[\"topic\"].lower():\n",
    "             by_month[f\"{article['month']}/{article['year']}\"][i]+= 1\n",
    " \n",
    "for year in [str(y) for y in range(2015, 2023)]:\n",
    "    for mon, val_list in by_month.items():\n",
    "        if year in mon:\n",
    "            by_year[year] = [sum(x) for x in zip(by_year[year], val_list)]\n"
   ]
  },
  {
   "attachments": {},
   "cell_type": "markdown",
   "metadata": {},
   "source": [
    "## Visualisierung humanitäre Krise pro Jahr"
   ]
  },
  {
   "cell_type": "code",
   "execution_count": 1,
   "metadata": {},
   "outputs": [
    {
     "data": {
      "image/png": "[encoded data removed]",
      "text/plain": [
       "<Figure size 1080x576 with 1 Axes>"
      ]
     },
     "metadata": {
      "needs_background": "light"
     },
     "output_type": "display_data"
    }
   ],
   "source": [
    "import matplotlib.pyplot as plt\n",
    "import numpy as np\n",
    "\n",
    "data = {'2015': [4, 2, 1, 0, 2],\n",
    "        '2016': [6, 0, 0, 1, 2],\n",
    "        '2017': [16, 0, 4, 11, 9],\n",
    "        '2018': [10, 0, 4, 6, 4],\n",
    "        '2019': [4, 0, 2, 1, 3],\n",
    "        '2020': [3, 1, 1, 9, 6],\n",
    "        '2021': [8, 0, 2, 1, 11],\n",
    "        '2022': [1, 1, 1, 0, 0]}\n",
    "\n",
    "weight_counts = {}\n",
    "for i, topic in enumerate([\"Hunger\", \"Klima\", \"Flucht\", \"Krankheit\", \"Spenden\"]):\n",
    "    weight_counts[topic] = np.array([v[i] for _, v in data.items()])\n",
    "\n",
    "\n",
    "days = list(data.keys())\n",
    "width = 0.6\n",
    "\n",
    "\n",
    "fig, ax = plt.subplots()\n",
    "\n",
    "bottom = np.zeros(len(days))\n",
    "\n",
    "# pastell und blau\n",
    "# colors = [\"#F2BAC9\", \"#222A68\", \"#79B791\"]\n",
    "# mit\n",
    "# colors = [\"#F2BAC9\", \"#222A68\", \"#62929E\"]\n",
    "# colors = [\"#BDC667\", \"#222A68\", \"#62929E\"]\n",
    "#\n",
    "\n",
    "colors = [\"#643A71\", \"#CBF3D2\", \"#62929E\", \"#BDC667\", \"#222A68\"]\n",
    "\n",
    "\n",
    "for i, pack in enumerate(weight_counts.items()):\n",
    "    boolean = pack[0]\n",
    "    weight_count = pack[1]\n",
    "    p = ax.bar(days, weight_count, width, label=boolean,\n",
    "               bottom=bottom, color=colors[i])\n",
    "    bottom += weight_count\n",
    "\n",
    "\n",
    "ax.set_title('Humanitäre Krise pro Jahr')\n",
    "\n",
    "ax.legend(loc=\"upper right\")\n",
    "ax.spines['top'].set_visible(False)\n",
    "ax.spines['right'].set_visible(False)\n",
    "\n",
    "\n",
    "def get_hundret_percent(i):\n",
    "    result = 0\n",
    "    for _, vals in weight_counts.items():\n",
    "        result += vals[i]\n",
    "    return result\n",
    "\n",
    "\n",
    "def get_position(weight_counts, i, reason):\n",
    "    result = 0\n",
    "    for r, vals in weight_counts.items():\n",
    "        if r == reason:\n",
    "            break\n",
    "        else:\n",
    "            result += vals[i]\n",
    "    result += weight_counts[reason][i]/2\n",
    "    return result\n",
    "\n",
    "\n",
    "for i, day in enumerate(days):\n",
    "    hundret = get_hundret_percent(i)\n",
    "    num = sum([x[i] for x in weight_counts.values()])\n",
    "    plt.text(i, num + 0.5, \"$n$ = \" + str(num),\n",
    "             va='center', ha='center', rotation=0, fontsize=10\n",
    "             )\n",
    "\n",
    "    for reason in weight_counts.keys():\n",
    "        percentage = weight_counts[reason][i]/hundret * 100\n",
    "        perc_string = str(np.round(percentage, 1)) + '%'\n",
    "        pos = get_position(weight_counts, i, reason)\n",
    "        if perc_string != \"0.0%\":\n",
    "            if reason != \"Hunger\" and reason != \"Spenden\":\n",
    "                plt.text(i, pos, perc_string,\n",
    "                         va='center', ha='center', rotation=0, fontsize=10\n",
    "                         )\n",
    "            else:\n",
    "                plt.text(i, pos, perc_string,\n",
    "                         va='center', ha='center', rotation=0, fontsize=10, color=\"white\"\n",
    "                         )\n",
    "\n",
    "\n",
    "fig.set_figheight(8)\n",
    "\n",
    "fig.set_figwidth(15)\n",
    "plt.xlabel(\"Jahr\")\n",
    "plt.ylabel(\"Artikelanzahl\")\n",
    "plt.savefig('humanitare-krise-pro-jahr.png', dpi=300)\n"
   ]
  }
 ],
 "metadata": {
  "kernelspec": {
   "display_name": "jemen-scraper",
   "language": "python",
   "name": "python3"
  },
  "language_info": {
   "codemirror_mode": {
    "name": "ipython",
    "version": 3
   },
   "file_extension": ".py",
   "mimetype": "text/x-python",
   "name": "python",
   "nbconvert_exporter": "python",
   "pygments_lexer": "ipython3",
   "version": "3.10.4"
  },
  "orig_nbformat": 4,
  "vscode": {
   "interpreter": {
    "hash": "c05e784c37b7486e763435563ea73fc5884b3661493573245e31e915d866c156"
   }
  }
 },
 "nbformat": 4,
 "nbformat_minor": 2
}
