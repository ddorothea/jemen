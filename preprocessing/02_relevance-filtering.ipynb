{
 "cells": [
  {
   "cell_type": "markdown",
   "metadata": {},
   "source": [
    "## Anzahl relevanter Artikel ermitteln und in Balkendiagrammen plotten\n",
    "\n",
    "Speicherort festlegen und \"sources\" als Liste definieren"
   ]
  },
  {
   "cell_type": "code",
   "execution_count": 2,
   "metadata": {},
   "outputs": [],
   "source": [
    "import json\n",
    "\n",
    "data_dir = \"../data/\"\n",
    "\n",
    "sources = [\"faz/\",  \"sz/\",  \"zeit/\",  \"spiegel/\"]\n"
   ]
  },
  {
   "cell_type": "markdown",
   "metadata": {},
   "source": [
    "Articles als Liste definiert und ein json-file mit allen articles in passenden Ordnern abgelegt"
   ]
  },
  {
   "cell_type": "code",
   "execution_count": 3,
   "metadata": {},
   "outputs": [],
   "source": [
    "articles = []\n",
    "\n",
    "for source in sources:\n",
    "    with open(data_dir + source + \"all-articles.json\") as file: \n",
    "        tmp = json.load(file)\n",
    "        articles += tmp"
   ]
  },
  {
   "cell_type": "markdown",
   "metadata": {},
   "source": [
    "Insgesamt gibt es 6310 Artikel, die in Titel, Übertitel oder Abstract \"Jemen\" enthalten"
   ]
  },
  {
   "cell_type": "code",
   "execution_count": 4,
   "metadata": {},
   "outputs": [
    {
     "data": {
      "text/plain": [
       "6310"
      ]
     },
     "execution_count": 4,
     "metadata": {},
     "output_type": "execute_result"
    }
   ],
   "source": [
    "len(articles)"
   ]
  },
  {
   "cell_type": "markdown",
   "metadata": {},
   "source": [
    "Liste relevanter Artikel erstellt und ihr jene angehängt, die Jemen im Titel oder Surtitle haben sowie ihre Anzahl bestimmt"
   ]
  },
  {
   "cell_type": "code",
   "execution_count": 5,
   "metadata": {},
   "outputs": [
    {
     "data": {
      "text/plain": [
       "938"
      ]
     },
     "execution_count": 5,
     "metadata": {},
     "output_type": "execute_result"
    }
   ],
   "source": [
    "relevant_articles = []\n",
    "\n",
    "for article in articles:\n",
    "    if \"jemen\" in article[\"title\"].lower() or \"jemen\" in article[\"surtitle\"].lower():\n",
    "        relevant_articles.append(article)\n",
    "\n",
    "len(relevant_articles)\n"
   ]
  },
  {
   "cell_type": "markdown",
   "metadata": {},
   "source": [
    "2 Dataframes (zweidimensionale Datenstruktur, Tabelle/Spreadsheet) erstellt"
   ]
  },
  {
   "cell_type": "code",
   "execution_count": 6,
   "metadata": {},
   "outputs": [],
   "source": [
    "import pandas as pd\n",
    "\n",
    "rel = pd.DataFrame(relevant_articles)\n",
    "all = pd.DataFrame(articles)\n"
   ]
  },
  {
   "cell_type": "markdown",
   "metadata": {},
   "source": [
    "??Wie viele relevante Artikel gibt es pro source "
   ]
  },
  {
   "cell_type": "code",
   "execution_count": 7,
   "metadata": {},
   "outputs": [
    {
     "data": {
      "text/plain": [
       "FAZ        377\n",
       "SZ         306\n",
       "Spiegel    137\n",
       "Zeit       118\n",
       "Name: source, dtype: int64"
      ]
     },
     "execution_count": 7,
     "metadata": {},
     "output_type": "execute_result"
    }
   ],
   "source": [
    "rel[\"source\"].value_counts()\n"
   ]
  },
  {
   "cell_type": "markdown",
   "metadata": {},
   "source": [
    "Wie viele Artikel gibt es pro source "
   ]
  },
  {
   "cell_type": "code",
   "execution_count": 8,
   "metadata": {},
   "outputs": [
    {
     "data": {
      "text/plain": [
       "FAZ        2411\n",
       "SZ         1938\n",
       "Spiegel    1343\n",
       "Zeit        618\n",
       "Name: source, dtype: int64"
      ]
     },
     "execution_count": 8,
     "metadata": {},
     "output_type": "execute_result"
    }
   ],
   "source": [
    "all[\"source\"].value_counts()"
   ]
  },
  {
   "cell_type": "markdown",
   "metadata": {},
   "source": [
    "So viele Artikel haben Autoren (oder: the dirty way to find out wie viele FAZ Artikel Autoren haben)\n",
    "- Liste aller Artikel mit Autoren erstellen\n",
    "- Menge ausgeben lassen\n",
    "- Dataframe erstellen"
   ]
  },
  {
   "cell_type": "code",
   "execution_count": 15,
   "metadata": {},
   "outputs": [
    {
     "name": "stdout",
     "output_type": "stream",
     "text": [
      "49\n"
     ]
    }
   ],
   "source": [
    "author_articles = []\n",
    "\n",
    "for article in relevant_articles:\n",
    "    if article[\"author\"].lower() != \"\":\n",
    "        author_articles.append(article)\n",
    "\n",
    "print(len(author_articles))\n",
    "\n",
    "aut = pd.DataFrame(author_articles)"
   ]
  },
  {
   "cell_type": "markdown",
   "metadata": {},
   "source": [
    "Dataframe aller rel. Art. ohne Spiegel\n",
    "Alle strings der Kategorie \"date\" und des Formats \"%d.%m.%Y\" in diesem Dataframe in datetimes umwandeln"
   ]
  },
  {
   "cell_type": "code",
   "execution_count": 10,
   "metadata": {},
   "outputs": [
    {
     "name": "stderr",
     "output_type": "stream",
     "text": [
      "C:\\Users\\ddoro\\AppData\\Local\\Temp\\ipykernel_30960\\2939919707.py:3: SettingWithCopyWarning: \n",
      "A value is trying to be set on a copy of a slice from a DataFrame.\n",
      "Try using .loc[row_indexer,col_indexer] = value instead\n",
      "\n",
      "See the caveats in the documentation: https://pandas.pydata.org/pandas-docs/stable/user_guide/indexing.html#returning-a-view-versus-a-copy\n",
      "  rel_sp[\"date\"] = pd.to_datetime(rel_sp[\"date\"], format=\"%d.%m.%Y\")\n"
     ]
    }
   ],
   "source": [
    "rel_sp = rel[rel[\"source\"] != \"Spiegel\"]\n",
    "\n",
    "rel_sp[\"date\"] = pd.to_datetime(rel_sp[\"date\"], format=\"%d.%m.%Y\")\n"
   ]
  },
  {
   "cell_type": "markdown",
   "metadata": {},
   "source": [
    "## Plotting\n",
    "\n",
    "Plottet alle relevanten Artikel ohne Spiegel anhand ihres Datums und groupiert in Jahre"
   ]
  },
  {
   "cell_type": "code",
   "execution_count": 11,
   "metadata": {},
   "outputs": [
    {
     "data": {
      "text/plain": [
       "<AxesSubplot:xlabel='date'>"
      ]
     },
     "execution_count": 11,
     "metadata": {},
     "output_type": "execute_result"
    },
    {
     "data": {
      "image/png": "[encoded data removed]",
      "text/plain": [
       "<Figure size 432x288 with 1 Axes>"
      ]
     },
     "metadata": {
      "needs_background": "light"
     },
     "output_type": "display_data"
    }
   ],
   "source": [
    "rel_sp['date'].groupby(rel_sp['date'].dt.year).count().plot(kind=\"bar\")"
   ]
  },
  {
   "cell_type": "code",
   "execution_count": 12,
   "metadata": {},
   "outputs": [],
   "source": [
    "year_info = {1: (\"January\", 31), 2: (\"February\", 28), 3: (\"March\", 31), 4: (\"April\", 30), 5: (\"May\", 31), 6: (\"June\", 30), 7: (\"July\", 31), 8: (\"August\", 31), 9: (\"September\", 30), 10: (\"October\", 31), 11: (\"November\", 30), 12: (\"December\", 31)}"
   ]
  },
  {
   "cell_type": "markdown",
   "metadata": {},
   "source": [
    "Speichert die Dataframes in einem Dictionary namens \"articlesByYear\", wobei der key dem Jahr entspricht und der value dem dataframe"
   ]
  },
  {
   "cell_type": "code",
   "execution_count": 13,
   "metadata": {},
   "outputs": [],
   "source": [
    "articlesByYear = {}\n",
    "\n",
    "def generateArticlesByMonth(articles, year):\n",
    "    articlesByMonth = {}\n",
    "    for month in year_info.keys():\n",
    "        articlesForThisMonth = articles[articles['date'].dt.month == month]\n",
    "        counts = articlesForThisMonth['date'].groupby(articles['date'].dt.day).count()\n",
    "        for day in range(1,year_info[month][1] + 1):\n",
    "            if day not in counts:\n",
    "                counts.at[day] = 0\n",
    "        if year in [2020,2016] and 29 not in counts: \n",
    "            counts.at[29] = 0\n",
    "        counts.sort_index(inplace=True)\n",
    "        articlesByMonth[month] = counts\n",
    "    return (articlesByMonth)\n",
    "\n",
    "\n",
    "for year in range(2015,2023): \n",
    "    articlesForThisYear = rel_sp[rel_sp['date'].dt.year == year]\n",
    "    # counts ist eine series (sozusagen eine Spalte von einem Dataframe)\n",
    "    counts = articlesForThisYear['date'].groupby(rel_sp['date'].dt.month).count()\n",
    "    # wenn für einen monat kein eintrag vorhanden ist, wird auch kein eintrag in counts erzeugt\n",
    "    # deshalb iterieren wir über alle monate (1-12) und wenn der Monat nicht in counts ist, \n",
    "    # fügen wir einen Eintrag mit dem Wert 0 hinzu\n",
    "    for month in range(1,13):\n",
    "        if month not in counts:\n",
    "            counts.at[month] = 0\n",
    "    # da wir die 0-einträge immer unten angehängt haben, sortieren wir das dataframe (default aufsteigend)\n",
    "    counts.sort_index(inplace=True)\n",
    "    articlesByMonth = generateArticlesByMonth(articlesForThisYear, year)\n",
    "    articlesByYear[year] = [articlesForThisYear, counts, articlesByMonth]\n"
   ]
  },
  {
   "cell_type": "markdown",
   "metadata": {},
   "source": [
    "filter data frame rows to only those rows for which the expression in the brackets evaluates to true"
   ]
  },
  {
   "cell_type": "code",
   "execution_count": 14,
   "metadata": {},
   "outputs": [
    {
     "ename": "TypeError",
     "evalue": "list indices must be integers or slices, not str",
     "output_type": "error",
     "traceback": [
      "\u001b[1;31m---------------------------------------------------------------------------\u001b[0m",
      "\u001b[1;31mTypeError\u001b[0m                                 Traceback (most recent call last)",
      "\u001b[1;32mc:\\Users\\ddoro\\Documents\\doro\\preprocessing\\02_relevance-filtering.ipynb Zelle 25\u001b[0m in \u001b[0;36m<cell line: 1>\u001b[1;34m()\u001b[0m\n\u001b[1;32m----> <a href='vscode-notebook-cell:/c%3A/Users/ddoro/Documents/doro/preprocessing/02_relevance-filtering.ipynb#X33sZmlsZQ%3D%3D?line=0'>1</a>\u001b[0m \u001b[39mlen\u001b[39m(articlesByYear[\u001b[39m2021\u001b[39m][articlesByYear[\u001b[39m2021\u001b[39;49m][\u001b[39m\"\u001b[39;49m\u001b[39mdate\u001b[39;49m\u001b[39m\"\u001b[39;49m]\u001b[39m.\u001b[39mdt\u001b[39m.\u001b[39mmonth \u001b[39m==\u001b[39m \u001b[39m1\u001b[39m])\n",
      "\u001b[1;31mTypeError\u001b[0m: list indices must be integers or slices, not str"
     ]
    }
   ],
   "source": [
    "len(articlesByYear[2021][articlesByYear[2021][\"date\"].dt.month == 1])"
   ]
  },
  {
   "cell_type": "markdown",
   "metadata": {},
   "source": [
    "Definition für das Plotten der Balkendiagramme mit dem Titel des jeweiligen Jahres, der x-Achse Monate, der y-Achse Artikel und dem Dateinamen Jahr und dem Format jpg\n",
    "Dann: clearen, damit die counts nicht einfach hinzugefügt werden"
   ]
  },
  {
   "cell_type": "code",
   "execution_count": null,
   "metadata": {},
   "outputs": [],
   "source": [
    "def plot_counts(counts, year):\n",
    "    plot = counts.plot(kind=\"bar\")\n",
    "    plot.set_title(year)\n",
    "    plot.set_xlabel(\"Monat\")\n",
    "    plot.set_ylabel(\"Artikel\")\n",
    "    plot.figure.savefig(str(year)+\".jpg\")\n",
    "    plot.figure.clear()"
   ]
  },
  {
   "cell_type": "code",
   "execution_count": null,
   "metadata": {},
   "outputs": [
    {
     "data": {
      "text/plain": [
       "<Figure size 432x288 with 0 Axes>"
      ]
     },
     "metadata": {},
     "output_type": "display_data"
    }
   ],
   "source": [
    "# for key, value in dictionary.items()\n",
    "for year, value in articlesByYear.items():\n",
    "\n",
    "        # unser dataframe mit den anzahlen der artikel und dem zugehörigen jahr wird zum plotten der Funktion übergeben\n",
    "        plot_counts(value[1], year)"
   ]
  },
  {
   "cell_type": "markdown",
   "metadata": {},
   "source": [
    "Dictionary namens \"year_info\" dazu, wie viele Tage welcher Monat haben kann"
   ]
  },
  {
   "cell_type": "code",
   "execution_count": null,
   "metadata": {},
   "outputs": [
    {
     "data": {
      "image/png": "[encoded data removed]",
      "text/plain": [
       "<Figure size 432x288 with 8 Axes>"
      ]
     },
     "metadata": {
      "needs_background": "light"
     },
     "output_type": "display_data"
    }
   ],
   "source": [
    "import matplotlib.pyplot as plt\n",
    "\n",
    "rows = 4\n",
    "cols = 2\n",
    "\n",
    "fig, axes = plt.subplots(nrows = rows, ncols = cols)\n",
    "\n",
    "yearIndex = 0\n",
    "for row in range(rows):\n",
    "    for col in range(cols):\n",
    "        year = list(articlesByYear.keys())[yearIndex]\n",
    "        articlesByYear[year][1].plot(kind = \"bar\", ax = axes[row, col]).set_title(str(year))\n",
    "        axes[row, col].set_ylim([0, 55])\n",
    "        axes[row, col].set_xlabel(\"Monat\")\n",
    "        if col == 0:\n",
    "            axes[row, col].set_ylabel(\"Artikel\")\n",
    "        yearIndex += 1\n",
    "\n",
    "plt.subplots_adjust(left=0.1,\n",
    "                    bottom=0.1, \n",
    "                    right=0.9, \n",
    "                    top=2, \n",
    "                    wspace=0.3, \n",
    "                    hspace=0.8)\n",
    "\n",
    "plt.savefig(\"yearsOverview.jpg\", bbox_inches=\"tight\")"
   ]
  },
  {
   "cell_type": "code",
   "execution_count": null,
   "metadata": {},
   "outputs": [],
   "source": [
    "for year in range(2015,2023):\n",
    "    articlesByMonth = articlesByYear[year][2]\n",
    "\n",
    "    rows = 4\n",
    "    cols = 3\n",
    "\n",
    "    fig, axes = plt.subplots(nrows = rows, ncols = cols)\n",
    "    fig.set_size_inches(18.5, 3.5)\n",
    "    fig.suptitle(str(year), fontsize=18, y=2.2)\n",
    "\n",
    "    monthIndex = 0\n",
    "\n",
    "    for row in range(rows):\n",
    "        for col in range(cols):\n",
    "            month = list(articlesByMonth.keys())[monthIndex]\n",
    "            articlesByMonth[month].plot(kind = \"bar\", ax = axes[row, col]).set_title(year_info[month][0])\n",
    "            axes[row, col].set_ylim([0, 16])\n",
    "            axes[row, col].set_xlabel(\"Tag\")\n",
    "            if col == 0:\n",
    "                axes[row, col].set_ylabel(\"Artikel\")\n",
    "            monthIndex += 1\n",
    "\n",
    "    plt.subplots_adjust(left=0.1,\n",
    "                        bottom=0.1, \n",
    "                        right=0.9, \n",
    "                        top=2, \n",
    "                        wspace=0.3, \n",
    "                        hspace=0.8)\n",
    "\n",
    "    plt.savefig(\"plots/\" + str(year) + \"/byMonth.jpg\", bbox_inches=\"tight\")\n",
    "\n"
   ]
  },
  {
   "cell_type": "code",
   "execution_count": null,
   "metadata": {},
   "outputs": [
    {
     "data": {
      "text/plain": [
       "22"
      ]
     },
     "execution_count": 39,
     "metadata": {},
     "output_type": "execute_result"
    }
   ],
   "source": [
    "len(rel_sp[rel_sp[\"author\"] == \"Christoph Ehrhardt\"])"
   ]
  },
  {
   "cell_type": "code",
   "execution_count": null,
   "metadata": {},
   "outputs": [
    {
     "data": {
      "text/plain": [
       "726"
      ]
     },
     "execution_count": 38,
     "metadata": {},
     "output_type": "execute_result"
    }
   ],
   "source": [
    "len(rel_sp[rel_sp[\"surtitle\"] != \"\"])"
   ]
  },
  {
   "cell_type": "code",
   "execution_count": null,
   "metadata": {},
   "outputs": [
    {
     "data": {
      "text/plain": [
       "801"
      ]
     },
     "execution_count": 37,
     "metadata": {},
     "output_type": "execute_result"
    }
   ],
   "source": [
    "len(rel_sp)"
   ]
  }
 ],
 "metadata": {
  "kernelspec": {
   "display_name": "Python 3.10.4 ('jemen-scraper')",
   "language": "python",
   "name": "python3"
  },
  "language_info": {
   "codemirror_mode": {
    "name": "ipython",
    "version": 3
   },
   "file_extension": ".py",
   "mimetype": "text/x-python",
   "name": "python",
   "nbconvert_exporter": "python",
   "pygments_lexer": "ipython3",
   "version": "3.10.4"
  },
  "orig_nbformat": 4,
  "vscode": {
   "interpreter": {
    "hash": "c05e784c37b7486e763435563ea73fc5884b3661493573245e31e915d866c156"
   }
  }
 },
 "nbformat": 4,
 "nbformat_minor": 2
}
