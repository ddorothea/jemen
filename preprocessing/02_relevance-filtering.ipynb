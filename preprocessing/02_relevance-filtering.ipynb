{
 "cells": [
  {
   "cell_type": "markdown",
   "metadata": {},
   "source": [
    "Speicherort festlegen und \"sources\" als Liste definieren"
   ]
  },
  {
   "cell_type": "code",
   "execution_count": 2,
   "metadata": {},
   "outputs": [],
   "source": [
    "import json\n",
    "\n",
    "data_dir = \"../data/\"\n",
    "\n",
    "sources = [\"faz/\",  \"sz/\",  \"zeit/\",  \"spiegel/\"]\n"
   ]
  },
  {
   "cell_type": "markdown",
   "metadata": {},
   "source": [
    "Articles als Liste definiert und ein json-file mit allen articles in passenden Ordnern abgelegt"
   ]
  },
  {
   "cell_type": "code",
   "execution_count": 137,
   "metadata": {},
   "outputs": [],
   "source": [
    "articles = []\n",
    "\n",
    "for source in sources:\n",
    "    with open(data_dir + source + \"all-articles.json\") as file: \n",
    "        tmp = json.load(file)\n",
    "        articles += tmp"
   ]
  },
  {
   "cell_type": "markdown",
   "metadata": {},
   "source": [
    "Insgesamt gibt es 6310 Artikel, die in Titel, Übertitel oder Abstract \"Jemen\" enthalten"
   ]
  },
  {
   "cell_type": "code",
   "execution_count": 138,
   "metadata": {},
   "outputs": [
    {
     "data": {
      "text/plain": [
       "6310"
      ]
     },
     "execution_count": 138,
     "metadata": {},
     "output_type": "execute_result"
    }
   ],
   "source": [
    "len(articles)"
   ]
  },
  {
   "cell_type": "markdown",
   "metadata": {},
   "source": [
    "Liste relevanter Artikel erstellt und ihr jene angehängt, die Jemen im Titel oder Surtitle haben sowie ihre Anzahl bestimmt"
   ]
  },
  {
   "cell_type": "code",
   "execution_count": 139,
   "metadata": {},
   "outputs": [
    {
     "data": {
      "text/plain": [
       "938"
      ]
     },
     "execution_count": 139,
     "metadata": {},
     "output_type": "execute_result"
    }
   ],
   "source": [
    "relevant_articles = []\n",
    "\n",
    "for article in articles:\n",
    "    if \"jemen\" in article[\"title\"].lower() or \"jemen\" in article[\"surtitle\"].lower():\n",
    "        relevant_articles.append(article)\n",
    "\n",
    "len(relevant_articles)\n"
   ]
  },
  {
   "cell_type": "markdown",
   "metadata": {},
   "source": [
    "2 Dataframes (zweidimensionale Datenstruktur, Tabelle/Spreadsheet) erstellt"
   ]
  },
  {
   "cell_type": "code",
   "execution_count": 7,
   "metadata": {},
   "outputs": [],
   "source": [
    "import pandas as pd\n",
    "\n",
    "rel = pd.DataFrame(relevant_articles)\n",
    "all = pd.DataFrame(articles)\n"
   ]
  },
  {
   "cell_type": "markdown",
   "metadata": {},
   "source": [
    "??Wie viele relevante Artikel gibt es pro source "
   ]
  },
  {
   "cell_type": "code",
   "execution_count": 133,
   "metadata": {},
   "outputs": [
    {
     "data": {
      "text/plain": [
       "FAZ        377\n",
       "SZ         306\n",
       "Spiegel    137\n",
       "Zeit       118\n",
       "Name: source, dtype: int64"
      ]
     },
     "execution_count": 133,
     "metadata": {},
     "output_type": "execute_result"
    }
   ],
   "source": [
    "rel[\"source\"].value_counts()\n"
   ]
  },
  {
   "cell_type": "markdown",
   "metadata": {},
   "source": [
    "Wie viele Artikel gibt es pro source "
   ]
  },
  {
   "cell_type": "code",
   "execution_count": 132,
   "metadata": {},
   "outputs": [
    {
     "data": {
      "text/plain": [
       "FAZ        2411\n",
       "SZ         1938\n",
       "Spiegel    1343\n",
       "Zeit        618\n",
       "Name: source, dtype: int64"
      ]
     },
     "execution_count": 132,
     "metadata": {},
     "output_type": "execute_result"
    }
   ],
   "source": [
    "all[\"source\"].value_counts()"
   ]
  },
  {
   "cell_type": "markdown",
   "metadata": {},
   "source": [
    "So viele Artikel haben Autoren (oder: the dirty way to find out wie viele FAZ Artikel Autoren haben)\n",
    "- Liste aller Artikel mit Autoren erstellen\n",
    "- Menge ausgeben lassen\n",
    "- Dataframe erstellen"
   ]
  },
  {
   "cell_type": "code",
   "execution_count": 141,
   "metadata": {},
   "outputs": [],
   "source": [
    "author_articles = []\n",
    "\n",
    "for article in relevant_articles:\n",
    "    if article[\"author\"].lower() != \"\":\n",
    "        author_articles.append(article)\n",
    "\n",
    "len(author_articles)\n",
    "\n",
    "aut = pd.DataFrame(author_articles)"
   ]
  },
  {
   "cell_type": "markdown",
   "metadata": {},
   "source": [
    "Dataframe aller rel. Art. ohne Spiegel\n",
    "Alle strings der Kategorie \"date\" und des Formats \"%d.%m.%Y\" in diesem Dataframe in datetimes umwandeln"
   ]
  },
  {
   "cell_type": "code",
   "execution_count": null,
   "metadata": {},
   "outputs": [],
   "source": [
    "rel_sp = rel[rel[\"source\"] != \"Spiegel\"]\n",
    "\n",
    "rel_sp[\"date\"] = pd.to_datetime(rel_sp[\"date\"], format=\"%d.%m.%Y\")\n"
   ]
  },
  {
   "cell_type": "markdown",
   "metadata": {},
   "source": [
    "Plottet alle relevanten Artikel ohne Spiegel anhand ihres Datums und groupiert in Jahre"
   ]
  },
  {
   "cell_type": "code",
   "execution_count": 36,
   "metadata": {},
   "outputs": [
    {
     "data": {
      "text/plain": [
       "<AxesSubplot:xlabel='date'>"
      ]
     },
     "execution_count": 36,
     "metadata": {},
     "output_type": "execute_result"
    },
    {
     "data": {
      "image/png": "[encoded data removed]",
      "text/plain": [
       "<Figure size 432x288 with 1 Axes>"
      ]
     },
     "metadata": {
      "needs_background": "light"
     },
     "output_type": "display_data"
    }
   ],
   "source": [
    "rel_sp['date'].groupby(rel_sp['date'].dt.year).count().plot(kind=\"bar\")"
   ]
  },
  {
   "cell_type": "markdown",
   "metadata": {},
   "source": [
    "Speichert die Dataframes in einem Dictionary namens \"articlesByYear\", wobei der key dem Jahr entspricht und der value dem dataframe"
   ]
  },
  {
   "cell_type": "code",
   "execution_count": 114,
   "metadata": {},
   "outputs": [],
   "source": [
    "articlesByYear = {}\n",
    "\n",
    "for year in range(2015,2023): \n",
    "    articlesByYear[year] = rel_sp[rel_sp['date'].dt.year == year]\n"
   ]
  },
  {
   "cell_type": "markdown",
   "metadata": {},
   "source": [
    "filter data frame rows to only those rows for which the expression in the brackets evaluates to true"
   ]
  },
  {
   "cell_type": "code",
   "execution_count": null,
   "metadata": {},
   "outputs": [],
   "source": [
    "len(articlesByYear[2021][articlesByYear[2021][\"date\"].dt.month == 1])"
   ]
  },
  {
   "cell_type": "markdown",
   "metadata": {},
   "source": [
    "Definition für das Plotten der Balkendiagramme mit dem Titel des jeweiligen Jahres, der x-Achse Monate, der y-Achse Artikel und dem Dateinamen Jahr und dem Format jpg\n",
    "Dann: clearen, damit die counts nicht einfach hinzugefügt werden"
   ]
  },
  {
   "cell_type": "code",
   "execution_count": 128,
   "metadata": {},
   "outputs": [],
   "source": [
    "def plot_counts(counts, year):\n",
    "    plot = counts.plot(kind=\"bar\")\n",
    "    plot.set_title(year)\n",
    "    plot.set_xlabel(\"Monat\")\n",
    "    plot.set_ylabel(\"Artikel\")\n",
    "    plot.figure.savefig(str(year)+\".jpg\")\n",
    "    plot.figure.clear()"
   ]
  },
  {
   "cell_type": "markdown",
   "metadata": {},
   "source": [
    "??in counts werden die artikel nach ihrem erscheinungsmonat gruppiert und die artikel pro monat werden gezählt\n",
    "\n",
    "??und für die monate 1-12 gilt, dass counts=0 ist, wenn der monat nicht darin vorkommt\n",
    "\n",
    "??das ganze soll gespeichert werden\n",
    "\n",
    "dann folgt die Plottfunktion"
   ]
  },
  {
   "cell_type": "code",
   "execution_count": null,
   "metadata": {},
   "outputs": [],
   "source": [
    "for year, articles in articlesByYear.items():\n",
    "        counts = articles['date'].groupby(rel_sp['date'].dt.month).count()\n",
    "        for month in range(1,13):\n",
    "            if month not in counts:\n",
    "                counts.at[month] = 0\n",
    "        counts.sort_index(inplace=True)\n",
    "        plot_counts(counts, year)"
   ]
  },
  {
   "cell_type": "markdown",
   "metadata": {},
   "source": [
    "Dictionary namens \"year_info\" dazu, wie viele Tage welcher Monat haben kann"
   ]
  },
  {
   "cell_type": "code",
   "execution_count": 130,
   "metadata": {},
   "outputs": [],
   "source": [
    "year_info = {1: (\"January\", 31), 2: (\"February\", 28), 3: (\"March\", 31), 4: (\"April\", 30), 5: (\"May\", 31), 6: (\"June\", 30), 7: (\"July\", 31), 8: (\"August\", 31), 9: (\"September\", 30), 10: (\"October\", 31), 11: (\"November\", 30), 12: (\"December\", 31)}"
   ]
  },
  {
   "cell_type": "markdown",
   "metadata": {},
   "source": [
    "## ??"
   ]
  },
  {
   "cell_type": "code",
   "execution_count": 78,
   "metadata": {},
   "outputs": [
    {
     "data": {
      "image/png": "[encoded data removed]",
      "text/plain": [
       "<Figure size 432x288 with 1 Axes>"
      ]
     },
     "metadata": {
      "needs_background": "light"
     },
     "output_type": "display_data"
    }
   ],
   "source": [
    "articles = articlesByYear[2015]\n",
    "\n",
    "counts = articles['date'].groupby(rel_sp['date'].dt.month).count()\n",
    "for month in range(1,13):\n",
    "    if month not in counts:\n",
    "        counts.at[month] = 0\n",
    "counts.sort_index(inplace=True)\n",
    "plot = counts.plot(kind=\"bar\")\n",
    "fig = plot.get_figure() "
   ]
  }
 ],
 "metadata": {
  "kernelspec": {
   "display_name": "Python 3.10.4 ('jemen-scraper')",
   "language": "python",
   "name": "python3"
  },
  "language_info": {
   "codemirror_mode": {
    "name": "ipython",
    "version": 3
   },
   "file_extension": ".py",
   "mimetype": "text/x-python",
   "name": "python",
   "nbconvert_exporter": "python",
   "pygments_lexer": "ipython3",
   "version": "3.10.4"
  },
  "orig_nbformat": 4,
  "vscode": {
   "interpreter": {
    "hash": "c05e784c37b7486e763435563ea73fc5884b3661493573245e31e915d866c156"
   }
  }
 },
 "nbformat": 4,
 "nbformat_minor": 2
}
