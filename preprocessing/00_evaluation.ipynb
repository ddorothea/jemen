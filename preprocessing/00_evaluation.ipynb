{
 "cells": [
  {
   "cell_type": "markdown",
   "metadata": {},
   "source": [
    "## Sampling und Relevanzüberprüfung"
   ]
  },
  {
   "cell_type": "code",
   "execution_count": 1,
   "metadata": {},
   "outputs": [],
   "source": [
    "import json\n",
    "import random \n",
    "import pandas as pd\n",
    "\n",
    "# File mit allen FAZ-Artikeln wird geöffnet und als Dataframe definiert\n",
    "with open(\"../data/faz/all-articles.json\", \"r\") as file:\n",
    "    faz = json.load(file)\n",
    "\n",
    "# File mit allen SZ-Artikeln wird geöffnet und als Dataframe definiert\n",
    "with open(\"../data/sz/all-articles.json\", \"r\") as file:\n",
    "    sz = json.load(file)"
   ]
  },
  {
   "cell_type": "markdown",
   "metadata": {},
   "source": [
    "#### FAZ"
   ]
  },
  {
   "cell_type": "code",
   "execution_count": 13,
   "metadata": {},
   "outputs": [],
   "source": [
    "# Dataframe wird auf relevante Artikel reduziert\n",
    "faz = [article for article in faz if (\"jemen\" in article[\"title\"].lower()) or (\"jemen\" in article[\"surtitle\"].lower())]"
   ]
  },
  {
   "cell_type": "code",
   "execution_count": 16,
   "metadata": {},
   "outputs": [
    {
     "data": {
      "text/plain": [
       "377"
      ]
     },
     "execution_count": 16,
     "metadata": {},
     "output_type": "execute_result"
    }
   ],
   "source": [
    "# so viele relevante FAZ Artikel gibt es\n",
    "len(faz)"
   ]
  },
  {
   "cell_type": "code",
   "execution_count": 17,
   "metadata": {},
   "outputs": [],
   "source": [
    "# sample von 20 relevanten FAZ Artikeln wird erstellt\n",
    "eval_sample = random.sample(faz, 20)\n",
    "# und dieser DataFrame wird in einer Datei ausgegeben (kann mit google spreadsheet geöffnet werden)\n",
    "pd.DataFrame(eval_sample).to_csv(\"../data/faz/evalsample.tsv\", sep = \"\\t\")"
   ]
  },
  {
   "cell_type": "markdown",
   "metadata": {},
   "source": [
    "#### SZ"
   ]
  },
  {
   "cell_type": "code",
   "execution_count": 2,
   "metadata": {},
   "outputs": [],
   "source": [
    "# Dataframe wird auf relevante Artikel reduziert\n",
    "sz = [article for article in sz if (\"jemen\" in article[\"title\"].lower()) or (\"jemen\" in article[\"surtitle\"].lower())]"
   ]
  },
  {
   "cell_type": "code",
   "execution_count": 4,
   "metadata": {},
   "outputs": [
    {
     "data": {
      "text/plain": [
       "306"
      ]
     },
     "execution_count": 4,
     "metadata": {},
     "output_type": "execute_result"
    }
   ],
   "source": [
    "# so viele relevante SZ Artikel gibt es\n",
    "len(sz)"
   ]
  },
  {
   "cell_type": "code",
   "execution_count": 5,
   "metadata": {},
   "outputs": [],
   "source": [
    "# sample von 20 relevanten SZ Artikeln wird erstellt\n",
    "eval_sample = random.sample(sz, 20)\n",
    "# und dieser DataFrame wird in einer Datei ausgegeben (kann mit google spreadsheet geöffnet werden)\n",
    "pd.DataFrame(eval_sample).to_csv(\"../data/sz/evalsample.tsv\", sep = \"\\t\")"
   ]
  }
 ],
 "metadata": {
  "kernelspec": {
   "display_name": "Python 3.10.4 ('jemen-scraper')",
   "language": "python",
   "name": "python3"
  },
  "language_info": {
   "codemirror_mode": {
    "name": "ipython",
    "version": 3
   },
   "file_extension": ".py",
   "mimetype": "text/x-python",
   "name": "python",
   "nbconvert_exporter": "python",
   "pygments_lexer": "ipython3",
   "version": "3.10.4 | packaged by conda-forge | (main, Mar 30 2022, 08:38:02) [MSC v.1916 64 bit (AMD64)]"
  },
  "orig_nbformat": 4,
  "vscode": {
   "interpreter": {
    "hash": "c05e784c37b7486e763435563ea73fc5884b3661493573245e31e915d866c156"
   }
  }
 },
 "nbformat": 4,
 "nbformat_minor": 2
}
