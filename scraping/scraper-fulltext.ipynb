{
 "cells": [
  {
   "cell_type": "markdown",
   "metadata": {},
   "source": [
    "# Volltexte scrapen\n",
    "\n",
    "### FAZ"
   ]
  },
  {
   "cell_type": "code",
   "execution_count": 2,
   "metadata": {},
   "outputs": [],
   "source": [
    "import requests\n",
    "import json\n",
    "import time\n",
    "\n",
    "data_dir = \"../data/faz/raw-full-articles/\""
   ]
  },
  {
   "cell_type": "code",
   "execution_count": 4,
   "metadata": {},
   "outputs": [],
   "source": [
    "with open(\"../data/faz/all-articles.json\", \"r\") as file:\n",
    "    faz = json.load(file)"
   ]
  },
  {
   "cell_type": "code",
   "execution_count": null,
   "metadata": {},
   "outputs": [],
   "source": [
    "faz = [article for article in faz if (\"jemen\" in article[\"title\"].lower()) or (\"jemen\" in article[\"surtitle\"].lower())]\n",
    "\n",
    "# für jeden link in der liste links wird die schleife einmal ausgeführt, danach für 3 sek pausiert, weil wir menschen sind\n",
    "for article in faz: \n",
    "    # der link wird beim server angefragt und der text der antwort in ein html dokument geschrieben, das im richtigen ordner abgespeichert wird\n",
    "    response = requests.get(article[\"link\"]).text\n",
    "    id = article[\"link\"].split(\"uid=\")[1]\n",
    "    filename = data_dir + id + \".html\"\n",
    "    article[\"id\"] = id\n",
    "    with open(filename, \"w\") as file:\n",
    "        file.write(response)\n",
    "    time.sleep(3)"
   ]
  },
  {
   "cell_type": "markdown",
   "metadata": {},
   "source": [
    "### ZEIT"
   ]
  },
  {
   "cell_type": "code",
   "execution_count": 2,
   "metadata": {},
   "outputs": [],
   "source": [
    "with open(\"../data/zeit/all-articles.json\", \"r\") as file:\n",
    "    zeit = json.load(file)"
   ]
  },
  {
   "cell_type": "code",
   "execution_count": 5,
   "metadata": {},
   "outputs": [],
   "source": [
    "zeit = [article for article in zeit if (\"jemen\" in article[\"title\"].lower()) or (\"jemen\" in article[\"surtitle\"].lower())]\n",
    "\n",
    "# für jeden link in der liste links wird die schleife einmal ausgeführt, danach für 3 sek pausiert, weil wir menschen sind\n",
    "for article in zeit: \n",
    "    # der link wird beim server angefragt und der text der antwort in ein html dokument geschrieben, das im richtigen ordner abgespeichert wird\n",
    "    response = requests.get(article[\"link\"]).text\n",
    "    id = article[\"link\"].split(\"document/\")[1].split(\"/\")[0]\n",
    "    filename = \"../data/zeit/raw-full-articles/\" + id + \".html\"\n",
    "    article[\"id\"] = id\n",
    "    with open(filename, \"w\", encoding=\"utf-8\") as file:\n",
    "        file.write(response)\n",
    "    time.sleep(3)"
   ]
  },
  {
   "cell_type": "markdown",
   "metadata": {},
   "source": [
    "### SZ"
   ]
  },
  {
   "cell_type": "code",
   "execution_count": 3,
   "metadata": {},
   "outputs": [],
   "source": [
    "with open(\"../data/sz/all-articles.json\", \"r\") as file:\n",
    "    sz = json.load(file)"
   ]
  },
  {
   "cell_type": "code",
   "execution_count": 4,
   "metadata": {},
   "outputs": [],
   "source": [
    "sz = [article for article in sz if (\"jemen\" in article[\"title\"].lower()) or (\"jemen\" in article[\"surtitle\"].lower())]\n",
    "\n",
    "# für jeden link in der liste links wird die schleife einmal ausgeführt, danach für 3 sek pausiert, weil wir menschen sind\n",
    "for article in sz[:1]: \n",
    "    # der link wird beim server angefragt und der text der antwort in ein html dokument geschrieben, das im richtigen ordner abgespeichert wird\n",
    "    response = requests.get(article[\"link\"]).text\n",
    "    id = article[\"link\"].split(\"Id=\")[1]\n",
    "    filename = \"../data/sz/raw-full-articles/\" + id + \".html\"\n",
    "    article[\"id\"] = id\n",
    "    with open(filename, \"w\", encoding=\"utf-8\") as file:\n",
    "        file.write(response)\n",
    "    time.sleep(3)"
   ]
  },
  {
   "cell_type": "code",
   "execution_count": 6,
   "metadata": {},
   "outputs": [
    {
     "data": {
      "text/plain": [
       "'\\r\\n\\r\\n\\r\\n\\r\\n\\r\\n\\r\\n\\r\\n\\r\\n<!DOCTYPE html>\\r\\n<html>\\r\\n<head>\\r\\n\\t<meta http-equiv=\"Content-Type\" content=\"text/html; charset=utf-8\">\\r\\n\\r\\n\\t\\r\\n<meta name=\"referrer\" content=\"always\"/>\\r\\n<title>DIZ PDB</title>\\r\\n\\r\\n\\r\\n\\t<link rel=\"stylesheet\" type=\"text/css\" href=\"/Portal/css/Css.act?src=menu.css\">\\r\\n\\t<link rel=\"stylesheet\" type=\"text/css\" href=\"/Portal/css/Css.act?src=page.css\">\\r\\n\\t<link rel=\"stylesheet\" type=\"text/css\" href=\"/Portal/css/Css.act?src=styles.css\">\\r\\n\\r\\n\\t<script type=\"text/javascript\" src=\"/Portal/scripts/jquery-1.10.2.min.js\"></script>\\r\\n\\t<script type=\"text/javascript\" src=\"/Portal/scripts/login.js\"></script>\\r\\n</head>\\r\\n\\r\\n<body>\\r\\n\\t\\r\\n\\t\\r\\n\\t\\r\\n\\t\\t\\r\\n\\r\\n\\r\\n\\r\\n<div class=\"innerBody\">\\r\\n\\r\\n\\t<header>\\r\\n\\t\\t<div class=\"contentWidth\">\\r\\n\\t\\t\\t\\r\\n\\t\\t\\t<img src=\"/Portal/img/CachedImg.act?src=old/header_logos/main_logo.jpg\" class=\"logoImg\" alt=\"S&uuml;ddeutsche Zeitung - Archiv\">\\r\\n\\t\\t</div>\\r\\n\\t</header>\\r\\n\\r\\n\\t<main>\\r\\n\\t\\t<div class=\"contentWidth\">\\r\\n\\t\\t\\t<div>\\r\\n\\t\\t\\t\\twww.sz-archiv.de\\r\\n\\t\\t\\t</div>\\r\\n\\t\\t\\t<div>\\r\\n\\t\\t\\t\\tAnmeldung\\r\\n\\t\\t\\t</div>\\r\\n\\t\\t\\t<div>\\r\\n\\t\\t\\t\\tDie Anmeldung wird durchgef&uuml;hrt...\\r\\n\\t\\t\\t</div>\\r\\n\\t\\t</div>\\r\\n\\t</main>\\r\\n\\r\\n</div>\\r\\n\\r\\n<form method=\"post\" name=\"login\" action=\"/Portal/j_security_check\">\\r\\n\\t<input type=\"hidden\" name=\"j_username\" value=\"performIpLogin\">\\r\\n\\t<input type=\"hidden\" name=\"j_password\" value=\"\">\\r\\n\\t<input type=\"hidden\" name=\"ipLoginApplication\" value=\"LIBNET\">\\r\\n\\t<input type=\"hidden\" name=\"loginType\" value=\"\">\\r\\n</form>\\r\\n\\r\\n<script type=\"text/javascript\">\\r\\n\\twindow.setTimeout(\"document.login.submit()\", 100);\\r\\n</script>\\r\\n\\r\\n\\t\\r\\n\\t\\r\\n\\t\\r\\n</body>\\r\\n</html>\\r\\n'"
      ]
     },
     "execution_count": 6,
     "metadata": {},
     "output_type": "execute_result"
    }
   ],
   "source": [
    "response"
   ]
  }
 ],
 "metadata": {
  "kernelspec": {
   "display_name": "Python 3.10.4 ('jemen-scraper')",
   "language": "python",
   "name": "python3"
  },
  "language_info": {
   "codemirror_mode": {
    "name": "ipython",
    "version": 3
   },
   "file_extension": ".py",
   "mimetype": "text/x-python",
   "name": "python",
   "nbconvert_exporter": "python",
   "pygments_lexer": "ipython3",
   "version": "3.10.4 | packaged by conda-forge | (main, Mar 30 2022, 08:38:02) [MSC v.1916 64 bit (AMD64)]"
  },
  "orig_nbformat": 4,
  "vscode": {
   "interpreter": {
    "hash": "c05e784c37b7486e763435563ea73fc5884b3661493573245e31e915d866c156"
   }
  }
 },
 "nbformat": 4,
 "nbformat_minor": 2
}
