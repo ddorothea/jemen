{
 "cells": [
  {
   "cell_type": "markdown",
   "metadata": {},
   "source": []
  },
  {
   "cell_type": "code",
   "execution_count": 5,
   "metadata": {},
   "outputs": [],
   "source": [
    "import requests\n",
    "import json\n",
    "import time\n",
    "\n",
    "data_dir = \"../data/faz/raw-full-articles/\""
   ]
  },
  {
   "cell_type": "code",
   "execution_count": 4,
   "metadata": {},
   "outputs": [],
   "source": [
    "with open(\"../data/faz/all-articles.json\", \"r\") as file:\n",
    "    faz = json.load(file)"
   ]
  },
  {
   "cell_type": "code",
   "execution_count": null,
   "metadata": {},
   "outputs": [],
   "source": [
    "faz = [article for article in faz if (\"jemen\" in article[\"title\"].lower()) or (\"jemen\" in article[\"surtitle\"].lower())]\n",
    "\n",
    "# für jeden link in der liste links wird die schleife einmal ausgeführt, danach für 3 sek pausiert, weil wir menschen sind\n",
    "for article in faz: \n",
    "    # der link wird beim server angefragt und der text der antwort in ein html dokument geschrieben, das im richtigen ordner abgespeichert wird\n",
    "    response = requests.get(article[\"link\"]).text\n",
    "    id = article[\"link\"].split(\"uid=\")[1]\n",
    "    filename = data_dir + id + \".html\"\n",
    "    article[\"id\"] = id\n",
    "    with open(filename, \"w\") as file:\n",
    "        file.write(response)\n",
    "    time.sleep(3)"
   ]
  }
 ],
 "metadata": {
  "kernelspec": {
   "display_name": "Python 3.10.4 ('jemen-scraper')",
   "language": "python",
   "name": "python3"
  },
  "language_info": {
   "codemirror_mode": {
    "name": "ipython",
    "version": 3
   },
   "file_extension": ".py",
   "mimetype": "text/x-python",
   "name": "python",
   "nbconvert_exporter": "python",
   "pygments_lexer": "ipython3",
   "version": "3.10.4"
  },
  "orig_nbformat": 4,
  "vscode": {
   "interpreter": {
    "hash": "c05e784c37b7486e763435563ea73fc5884b3661493573245e31e915d866c156"
   }
  }
 },
 "nbformat": 4,
 "nbformat_minor": 2
}
