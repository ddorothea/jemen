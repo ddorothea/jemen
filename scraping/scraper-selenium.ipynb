{
 "cells": [
  {
   "cell_type": "code",
   "execution_count": null,
   "metadata": {},
   "outputs": [],
   "source": [
    "import time\n",
    "from selenium import webdriver\n",
    "from selenium.webdriver.common.keys import Keys\n",
    "from selenium.webdriver.common.by import By\n",
    "\n",
    "data_dir = \"../data/\"\n",
    "\n",
    "def save_pagecontent(driver, filename): \n",
    "    content = driver.page_source\n",
    "    with open(data_dir + filename, \"w\") as file:\n",
    "        file.write(content)"
   ]
  },
  {
   "cell_type": "markdown",
   "metadata": {},
   "source": [
    "# SZ"
   ]
  },
  {
   "cell_type": "code",
   "execution_count": null,
   "metadata": {},
   "outputs": [],
   "source": [
    "\n",
    "driver = webdriver.Chrome()\n",
    "driver.get(\"https://archiv.szarchiv.de/Portal/restricted/ExtendedResultList.act\")\n",
    "time.sleep(3)\n",
    "#driver.find_element_by_xpath('//*[@id=\"searchTerm\"]')\n",
    "\n",
    "inputElement = driver.find_element_by_xpath('//*[@id=\"searchTerm\"]')\n",
    "inputElement.send_keys('jemen')\n",
    "inputElement.send_keys(Keys.ENTER)\n",
    "\n",
    "time.sleep(5)\n",
    "\n",
    "dateElement = driver.find_element_by_xpath('//*[@id=\"dateChip\"]/h4')\n",
    "dateElement.click()\n",
    "time.sleep(2)\n",
    "fromElement = driver.find_element_by_xpath('//*[@id=\"fromDate\"]')\n",
    "fromElement.send_keys(Keys.CONTROL,'a')\n",
    "time.sleep(1)\n",
    "fromElement.send_keys('25.03.2015')\n",
    "fromElement.send_keys(Keys.ENTER)\n",
    "\n",
    "time.sleep(1)\n",
    "\n",
    "for page in range(1,59):\n",
    "    save_pagecontent(driver, 'sz/search-raw/'+str(page)+'.html')\n",
    "    next = driver.find_element_by_css_selector('#articleSearchDIV > div.resultListNavRow.flex_x_no_wrap.flex_x_align_center > div > span.icon.iconGo.iconGoNext') \n",
    "    next.click()\n",
    "    time.sleep(5)\n",
    "\n",
    "\n",
    "save_pagecontent(driver, 'sz/search-raw/'+str(58)+'.html')"
   ]
  },
  {
   "cell_type": "markdown",
   "metadata": {},
   "source": [
    "# ZEIT ONLINE"
   ]
  },
  {
   "cell_type": "code",
   "execution_count": null,
   "metadata": {},
   "outputs": [],
   "source": [
    "driver = webdriver.Chrome()\n",
    "driver.get(\"https://www.wiso-net.de/dosearch?_searchOnlyInAbstractField=&_searchOnlyInTitleField=&explicitSearch=true&q=jemen&dbShortcut=ZEIO&searchMask=6298&TI%2CUT%2CDZ%2CBT%2COT%2CSL=&AU=&MM%2COW%2CUF%2CMF%2CAO%2CTP%2CVM%2CNN%2CNJ%2CKV%2CZ2=&CO%2CC2%2CTA%2CKA%2CVA%2CZ1=&CT%2CDE%2CZ4%2CKW=&BR%2CGW%2CN1%2CN2%2CNC%2CND%2CSC%2CWZ%2CZ5%2CAI%2CBC%2CKN%2CTN%2CVN%2CK0%2CB4%2CNW%2CVH=&Z3%2CCN%2CCE%2CKC%2CTC%2CVC=&timeFilterType=on&DT_from=25.03.2015&DT_to=29.7.2022&x=83&y=8\")\n",
    "time.sleep(3)\n",
    "#driver.find_element_by_xpath('//*[@id=\"searchTerm\"]')\n",
    "\n",
    "for page in range(1,25):\n",
    "    save_pagecontent(driver, 'zeit/search-raw/'+str(page)+'.html')\n",
    "    next = driver.find_element_by_css_selector('#content > div.divRowSearchResult.moduleBackgroundColor.clearfix.noprint > div.innerModulePager > a.nextLink') \n",
    "    next.click()\n",
    "    time.sleep(5)\n",
    "\n",
    "\n",
    "save_pagecontent(driver, 'zeit/search-raw/'+str(25)+'.html')\n",
    "\n"
   ]
  },
  {
   "cell_type": "markdown",
   "metadata": {},
   "source": [
    "# SPIEGEL ONLINE"
   ]
  },
  {
   "cell_type": "code",
   "execution_count": null,
   "metadata": {},
   "outputs": [],
   "source": [
    "driver = webdriver.Chrome()\n",
    "driver.get(\"https://www.wiso-net.de/dosearch?_searchOnlyInAbstractField=&_searchOnlyInTitleField=&explicitSearch=true&q=jemen&dbShortcut=SPON&searchMask=6233&TI%2CUT%2CDZ%2CBT%2COT%2CSL=&AU=&MM%2COW%2CUF%2CMF%2CAO%2CTP%2CVM%2CNN%2CNJ%2CKV%2CZ2=&CO%2CC2%2CTA%2CKA%2CVA%2CZ1=&CT%2CDE%2CZ4%2CKW=&BR%2CGW%2CN1%2CN2%2CNC%2CND%2CSC%2CWZ%2CZ5%2CAI%2CBC%2CKN%2CTN%2CVN%2CK0%2CB4%2CNW%2CVH=&Z3%2CCN%2CCE%2CKC%2CTC%2CVC=&timeFilterType=on&DT_from=25.03.2015&DT_to=29.7.2022&x=93&y=9\")\n",
    "time.sleep(3)\n",
    "#driver.find_element_by_xpath('//*[@id=\"searchTerm\"]')\n",
    "\n",
    "for page in range(1,54):\n",
    "    save_pagecontent(driver, 'spiegel/search-raw/'+str(page)+'.html')\n",
    "    next = driver.find_element_by_css_selector('#content > div.divRowSearchResult.moduleBackgroundColor.clearfix.noprint > div.innerModulePager > a.nextLink') \n",
    "    next.click()\n",
    "    time.sleep(4)\n",
    "\n",
    "\n",
    "save_pagecontent(driver, 'spiegel/search-raw/'+str(54)+'.html')\n"
   ]
  }
 ],
 "metadata": {
  "kernelspec": {
   "display_name": "Python 3.10.4 ('jemen-scraper')",
   "language": "python",
   "name": "python3"
  },
  "language_info": {
   "codemirror_mode": {
    "name": "ipython",
    "version": 3
   },
   "file_extension": ".py",
   "mimetype": "text/x-python",
   "name": "python",
   "nbconvert_exporter": "python",
   "pygments_lexer": "ipython3",
   "version": "3.10.4"
  },
  "orig_nbformat": 4,
  "vscode": {
   "interpreter": {
    "hash": "c05e784c37b7486e763435563ea73fc5884b3661493573245e31e915d866c156"
   }
  }
 },
 "nbformat": 4,
 "nbformat_minor": 2
}
