{
 "cells": [
  {
   "cell_type": "code",
   "execution_count": 1,
   "metadata": {},
   "outputs": [],
   "source": [
    "import time\n",
    "from selenium import webdriver\n",
    "from selenium.webdriver.common.keys import Keys\n",
    "from selenium.webdriver.common.by import By\n",
    "from selenium.webdriver.chrome.options import Options\n",
    "from webdriver_manager.chrome import ChromeDriverManager\n",
    "\n",
    "\n",
    "\n",
    "data_dir = \"../data/\"\n",
    "\n",
    "def save_pagecontent(driver, filename): \n",
    "    content = driver.page_source\n",
    "    with open(data_dir + filename, \"w\") as file:\n",
    "        file.write(content)"
   ]
  },
  {
   "cell_type": "markdown",
   "metadata": {},
   "source": [
    "# SZ"
   ]
  },
  {
   "cell_type": "code",
   "execution_count": null,
   "metadata": {},
   "outputs": [],
   "source": [
    "\n",
    "driver = webdriver.Chrome()\n",
    "driver.get(\"https://archiv.szarchiv.de/Portal/restricted/ExtendedResultList.act\")\n",
    "time.sleep(3)\n",
    "#driver.find_element_by_xpath('//*[@id=\"searchTerm\"]')\n",
    "\n",
    "inputElement = driver.find_element_by_xpath('//*[@id=\"searchTerm\"]')\n",
    "inputElement.send_keys('jemen')\n",
    "inputElement.send_keys(Keys.ENTER)\n",
    "\n",
    "time.sleep(5)\n",
    "\n",
    "dateElement = driver.find_element_by_xpath('//*[@id=\"dateChip\"]/h4')\n",
    "dateElement.click()\n",
    "time.sleep(2)\n",
    "fromElement = driver.find_element_by_xpath('//*[@id=\"fromDate\"]')\n",
    "fromElement.send_keys(Keys.CONTROL,'a')\n",
    "time.sleep(1)\n",
    "fromElement.send_keys('25.03.2015')\n",
    "fromElement.send_keys(Keys.ENTER)\n",
    "\n",
    "time.sleep(1)\n",
    "\n",
    "for page in range(1,59):\n",
    "    save_pagecontent(driver, 'sz/search-raw/'+str(page)+'.html')\n",
    "    next = driver.find_element_by_css_selector('#articleSearchDIV > div.resultListNavRow.flex_x_no_wrap.flex_x_align_center > div > span.icon.iconGo.iconGoNext') \n",
    "    next.click()\n",
    "    time.sleep(5)\n",
    "\n",
    "\n",
    "save_pagecontent(driver, 'sz/search-raw/'+str(58)+'.html')"
   ]
  },
  {
   "cell_type": "markdown",
   "metadata": {},
   "source": [
    "# ZEIT ONLINE"
   ]
  },
  {
   "cell_type": "code",
   "execution_count": null,
   "metadata": {},
   "outputs": [],
   "source": [
    "driver = webdriver.Chrome()\n",
    "driver.get(\"https://www.wiso-net.de/dosearch?_searchOnlyInAbstractField=&_searchOnlyInTitleField=&explicitSearch=true&q=jemen&dbShortcut=ZEIO&searchMask=6298&TI%2CUT%2CDZ%2CBT%2COT%2CSL=&AU=&MM%2COW%2CUF%2CMF%2CAO%2CTP%2CVM%2CNN%2CNJ%2CKV%2CZ2=&CO%2CC2%2CTA%2CKA%2CVA%2CZ1=&CT%2CDE%2CZ4%2CKW=&BR%2CGW%2CN1%2CN2%2CNC%2CND%2CSC%2CWZ%2CZ5%2CAI%2CBC%2CKN%2CTN%2CVN%2CK0%2CB4%2CNW%2CVH=&Z3%2CCN%2CCE%2CKC%2CTC%2CVC=&timeFilterType=on&DT_from=25.03.2015&DT_to=29.7.2022&x=83&y=8\")\n",
    "time.sleep(3)\n",
    "#driver.find_element_by_xpath('//*[@id=\"searchTerm\"]')\n",
    "\n",
    "for page in range(1,25):\n",
    "    save_pagecontent(driver, 'zeit/search-raw/'+str(page)+'.html')\n",
    "    next = driver.find_element_by_css_selector('#content > div.divRowSearchResult.moduleBackgroundColor.clearfix.noprint > div.innerModulePager > a.nextLink') \n",
    "    next.click()\n",
    "    time.sleep(5)\n",
    "\n",
    "\n",
    "save_pagecontent(driver, 'zeit/search-raw/'+str(25)+'.html')\n",
    "\n"
   ]
  },
  {
   "cell_type": "markdown",
   "metadata": {},
   "source": [
    "# SPIEGEL ONLINE"
   ]
  },
  {
   "cell_type": "code",
   "execution_count": null,
   "metadata": {},
   "outputs": [],
   "source": [
    "driver = webdriver.Chrome()\n",
    "driver.get(\"https://www.wiso-net.de/dosearch?_searchOnlyInAbstractField=&_searchOnlyInTitleField=&explicitSearch=true&q=jemen&dbShortcut=SPON&searchMask=6233&TI%2CUT%2CDZ%2CBT%2COT%2CSL=&AU=&MM%2COW%2CUF%2CMF%2CAO%2CTP%2CVM%2CNN%2CNJ%2CKV%2CZ2=&CO%2CC2%2CTA%2CKA%2CVA%2CZ1=&CT%2CDE%2CZ4%2CKW=&BR%2CGW%2CN1%2CN2%2CNC%2CND%2CSC%2CWZ%2CZ5%2CAI%2CBC%2CKN%2CTN%2CVN%2CK0%2CB4%2CNW%2CVH=&Z3%2CCN%2CCE%2CKC%2CTC%2CVC=&timeFilterType=on&DT_from=25.03.2015&DT_to=29.7.2022&x=93&y=9\")\n",
    "time.sleep(3)\n",
    "#driver.find_element_by_xpath('//*[@id=\"searchTerm\"]')\n",
    "\n",
    "for page in range(1,54):\n",
    "    save_pagecontent(driver, 'spiegel/search-raw/'+str(page)+'.html')\n",
    "    next = driver.find_element_by_css_selector('#content > div.divRowSearchResult.moduleBackgroundColor.clearfix.noprint > div.innerModulePager > a.nextLink') \n",
    "    next.click()\n",
    "    time.sleep(4)\n",
    "\n",
    "\n",
    "save_pagecontent(driver, 'spiegel/search-raw/'+str(54)+'.html')\n"
   ]
  },
  {
   "cell_type": "code",
   "execution_count": 2,
   "metadata": {},
   "outputs": [
    {
     "name": "stdout",
     "output_type": "stream",
     "text": [
      "Can not get text from article: %s https://archiv.szarchiv.de/Portal/restricted/Start.act?articleId=A109855359\n",
      "'charmap' codec can't encode character '\\u200a' in position 11653: character maps to <undefined>\n",
      "Can not get text from article: %s https://archiv.szarchiv.de/Portal/restricted/Start.act?articleId=A106527453\n",
      "'charmap' codec can't encode character '\\u200a' in position 12575: character maps to <undefined>\n",
      "Can not get text from article: %s https://archiv.szarchiv.de/Portal/restricted/Start.act?articleId=A106040241\n",
      "'charmap' codec can't encode character '\\u200a' in position 12271: character maps to <undefined>\n",
      "Can not get text from article: %s https://archiv.szarchiv.de/Portal/restricted/Start.act?articleId=A71901920\n",
      "'charmap' codec can't encode characters in position 9748-9749: character maps to <undefined>\n",
      "Can not get text from article: %s https://archiv.szarchiv.de/Portal/restricted/Start.act?articleId=A71849222\n",
      "'charmap' codec can't encode character '\\u200a' in position 10106: character maps to <undefined>\n",
      "Can not get text from article: %s https://archiv.szarchiv.de/Portal/restricted/Start.act?articleId=A101055724\n",
      "'charmap' codec can't encode character '\\u011f' in position 11956: character maps to <undefined>\n",
      "Can not get text from article: %s https://archiv.szarchiv.de/Portal/restricted/Start.act?articleId=A101055701\n",
      "'charmap' codec can't encode character '\\u25ba' in position 10619: character maps to <undefined>\n",
      "Can not get text from article: %s https://archiv.szarchiv.de/Portal/restricted/Start.act?articleId=A100988291\n",
      "'charmap' codec can't encode character '\\u200a' in position 9870: character maps to <undefined>\n",
      "Can not get text from article: %s https://archiv.szarchiv.de/Portal/restricted/Start.act?articleId=A101778810\n",
      "'charmap' codec can't encode characters in position 10105-10106: character maps to <undefined>\n",
      "Can not get text from article: %s https://archiv.szarchiv.de/Portal/restricted/Start.act?articleId=A101778809\n",
      "'charmap' codec can't encode character '\\u200a' in position 12675: character maps to <undefined>\n",
      "Can not get text from article: %s https://archiv.szarchiv.de/Portal/restricted/Start.act?articleId=A101699489\n",
      "'charmap' codec can't encode character '\\u2009' in position 9864: character maps to <undefined>\n",
      "Can not get text from article: %s https://archiv.szarchiv.de/Portal/restricted/Start.act?articleId=A101567740\n",
      "'charmap' codec can't encode character '\\u2009' in position 14913: character maps to <undefined>\n",
      "Can not get text from article: %s https://archiv.szarchiv.de/Portal/restricted/Start.act?articleId=A101567712\n",
      "'charmap' codec can't encode character '\\u25ba' in position 8974: character maps to <undefined>\n"
     ]
    },
    {
     "ename": "WebDriverException",
     "evalue": "Message: unknown error: net::ERR_NAME_NOT_RESOLVED\n  (Session info: headless chrome=108.0.5359.125)\n",
     "output_type": "error",
     "traceback": [
      "\u001b[1;31m---------------------------------------------------------------------------\u001b[0m",
      "\u001b[1;31mWebDriverException\u001b[0m                        Traceback (most recent call last)",
      "\u001b[1;32mc:\\Users\\ddoro\\Documents\\doro\\scraping\\scraper-selenium.ipynb Cell 8\u001b[0m in \u001b[0;36m<cell line: 11>\u001b[1;34m()\u001b[0m\n\u001b[0;32m     <a href='vscode-notebook-cell:/c%3A/Users/ddoro/Documents/doro/scraping/scraper-selenium.ipynb#X10sZmlsZQ%3D%3D?line=14'>15</a>\u001b[0m driver \u001b[39m=\u001b[39m webdriver\u001b[39m.\u001b[39mChrome(ChromeDriverManager()\u001b[39m.\u001b[39minstall(), options\u001b[39m=\u001b[39moptions)\n\u001b[0;32m     <a href='vscode-notebook-cell:/c%3A/Users/ddoro/Documents/doro/scraping/scraper-selenium.ipynb#X10sZmlsZQ%3D%3D?line=15'>16</a>\u001b[0m options\u001b[39m.\u001b[39madd_argument(\u001b[39m'\u001b[39m\u001b[39mheadless\u001b[39m\u001b[39m'\u001b[39m)\n\u001b[1;32m---> <a href='vscode-notebook-cell:/c%3A/Users/ddoro/Documents/doro/scraping/scraper-selenium.ipynb#X10sZmlsZQ%3D%3D?line=16'>17</a>\u001b[0m driver\u001b[39m.\u001b[39;49mget(article[\u001b[39m\"\u001b[39;49m\u001b[39mlink\u001b[39;49m\u001b[39m\"\u001b[39;49m])\n\u001b[0;32m     <a href='vscode-notebook-cell:/c%3A/Users/ddoro/Documents/doro/scraping/scraper-selenium.ipynb#X10sZmlsZQ%3D%3D?line=17'>18</a>\u001b[0m time\u001b[39m.\u001b[39msleep(\u001b[39m5\u001b[39m)\n\u001b[0;32m     <a href='vscode-notebook-cell:/c%3A/Users/ddoro/Documents/doro/scraping/scraper-selenium.ipynb#X10sZmlsZQ%3D%3D?line=20'>21</a>\u001b[0m \u001b[39mid\u001b[39m \u001b[39m=\u001b[39m article[\u001b[39m\"\u001b[39m\u001b[39mlink\u001b[39m\u001b[39m\"\u001b[39m]\u001b[39m.\u001b[39msplit(\u001b[39m\"\u001b[39m\u001b[39mId=\u001b[39m\u001b[39m\"\u001b[39m)[\u001b[39m1\u001b[39m]\n",
      "File \u001b[1;32mc:\\Users\\ddoro\\.conda\\envs\\jemen-scraper\\lib\\site-packages\\selenium\\webdriver\\remote\\webdriver.py:333\u001b[0m, in \u001b[0;36mWebDriver.get\u001b[1;34m(self, url)\u001b[0m\n\u001b[0;32m    329\u001b[0m \u001b[39mdef\u001b[39;00m \u001b[39mget\u001b[39m(\u001b[39mself\u001b[39m, url):\n\u001b[0;32m    330\u001b[0m     \u001b[39m\"\"\"\u001b[39;00m\n\u001b[0;32m    331\u001b[0m \u001b[39m    Loads a web page in the current browser session.\u001b[39;00m\n\u001b[0;32m    332\u001b[0m \u001b[39m    \"\"\"\u001b[39;00m\n\u001b[1;32m--> 333\u001b[0m     \u001b[39mself\u001b[39;49m\u001b[39m.\u001b[39;49mexecute(Command\u001b[39m.\u001b[39;49mGET, {\u001b[39m'\u001b[39;49m\u001b[39murl\u001b[39;49m\u001b[39m'\u001b[39;49m: url})\n",
      "File \u001b[1;32mc:\\Users\\ddoro\\.conda\\envs\\jemen-scraper\\lib\\site-packages\\selenium\\webdriver\\remote\\webdriver.py:321\u001b[0m, in \u001b[0;36mWebDriver.execute\u001b[1;34m(self, driver_command, params)\u001b[0m\n\u001b[0;32m    319\u001b[0m response \u001b[39m=\u001b[39m \u001b[39mself\u001b[39m\u001b[39m.\u001b[39mcommand_executor\u001b[39m.\u001b[39mexecute(driver_command, params)\n\u001b[0;32m    320\u001b[0m \u001b[39mif\u001b[39;00m response:\n\u001b[1;32m--> 321\u001b[0m     \u001b[39mself\u001b[39;49m\u001b[39m.\u001b[39;49merror_handler\u001b[39m.\u001b[39;49mcheck_response(response)\n\u001b[0;32m    322\u001b[0m     response[\u001b[39m'\u001b[39m\u001b[39mvalue\u001b[39m\u001b[39m'\u001b[39m] \u001b[39m=\u001b[39m \u001b[39mself\u001b[39m\u001b[39m.\u001b[39m_unwrap_value(\n\u001b[0;32m    323\u001b[0m         response\u001b[39m.\u001b[39mget(\u001b[39m'\u001b[39m\u001b[39mvalue\u001b[39m\u001b[39m'\u001b[39m, \u001b[39mNone\u001b[39;00m))\n\u001b[0;32m    324\u001b[0m     \u001b[39mreturn\u001b[39;00m response\n",
      "File \u001b[1;32mc:\\Users\\ddoro\\.conda\\envs\\jemen-scraper\\lib\\site-packages\\selenium\\webdriver\\remote\\errorhandler.py:242\u001b[0m, in \u001b[0;36mErrorHandler.check_response\u001b[1;34m(self, response)\u001b[0m\n\u001b[0;32m    240\u001b[0m         alert_text \u001b[39m=\u001b[39m value[\u001b[39m'\u001b[39m\u001b[39malert\u001b[39m\u001b[39m'\u001b[39m]\u001b[39m.\u001b[39mget(\u001b[39m'\u001b[39m\u001b[39mtext\u001b[39m\u001b[39m'\u001b[39m)\n\u001b[0;32m    241\u001b[0m     \u001b[39mraise\u001b[39;00m exception_class(message, screen, stacktrace, alert_text)\n\u001b[1;32m--> 242\u001b[0m \u001b[39mraise\u001b[39;00m exception_class(message, screen, stacktrace)\n",
      "\u001b[1;31mWebDriverException\u001b[0m: Message: unknown error: net::ERR_NAME_NOT_RESOLVED\n  (Session info: headless chrome=108.0.5359.125)\n"
     ]
    }
   ],
   "source": [
    "### full text scraper for sz\n",
    "import json\n",
    "\n",
    "with open(\"../data/sz/all-articles.json\", \"r\") as file:\n",
    "    sz = json.load(file)\n",
    "\n",
    "\n",
    "sz = [article for article in sz if (\"jemen\" in article[\"title\"].lower()) or (\"jemen\" in article[\"surtitle\"].lower())]\n",
    "\n",
    "# für jeden link in der liste links wird die schleife einmal ausgeführt, danach für 3 sek pausiert, weil wir menschen sind\n",
    "for article in sz: \n",
    "    # der link wird beim server angefragt und der text der antwort in ein html dokument geschrieben, das im richtigen ordner abgespeichert wird\n",
    "    options = Options()\n",
    "    options.add_argument('--headless')\n",
    "    driver = webdriver.Chrome(ChromeDriverManager().install(), options=options)\n",
    "    options.add_argument('headless')\n",
    "    driver.get(article[\"link\"])\n",
    "    time.sleep(5)\n",
    "    \n",
    "    \n",
    "    id = article[\"link\"].split(\"Id=\")[1]\n",
    "    filename = \"../data/sz/raw-full-articles/\" + id + \".html\"\n",
    "    try:\n",
    "        save_pagecontent(driver, filename)\n",
    "        \n",
    "        article[\"id\"] = id\n",
    "        article[\"text\"] = driver.find_element_by_id(\"articleWrapper\").text\n",
    "        \n",
    "        time.sleep(1)\n",
    "    except Exception as e:\n",
    "        print(\"Can not get text from article: %s\", str(article[\"link\"]))\n",
    "        print(e)    \n",
    "    \n",
    "    driver.close()\n",
    "\n",
    "with open(\"../data/sz/all-relevant-fulltext.json\", \"w\") as f:\n",
    "    json.dump(sz, f, indent = 2)\n"
   ]
  },
  {
   "cell_type": "code",
   "execution_count": 4,
   "metadata": {},
   "outputs": [],
   "source": [
    "with open(\"../data/sz/all-relevant-fulltext.json\", \"w\") as f:\n",
    "    json.dump(sz, f, indent = 2)"
   ]
  },
  {
   "cell_type": "code",
   "execution_count": 5,
   "metadata": {},
   "outputs": [
    {
     "data": {
      "text/plain": [
       "10"
      ]
     },
     "execution_count": 5,
     "metadata": {},
     "output_type": "execute_result"
    }
   ],
   "source": [
    "len([a for a in sz if \"text\" in a])"
   ]
  },
  {
   "cell_type": "code",
   "execution_count": 7,
   "metadata": {},
   "outputs": [
    {
     "data": {
      "text/plain": [
       "306"
      ]
     },
     "execution_count": 7,
     "metadata": {},
     "output_type": "execute_result"
    }
   ],
   "source": [
    "len(sz)"
   ]
  }
 ],
 "metadata": {
  "kernelspec": {
   "display_name": "Python 3.10.4 ('jemen-scraper')",
   "language": "python",
   "name": "python3"
  },
  "language_info": {
   "codemirror_mode": {
    "name": "ipython",
    "version": 3
   },
   "file_extension": ".py",
   "mimetype": "text/x-python",
   "name": "python",
   "nbconvert_exporter": "python",
   "pygments_lexer": "ipython3",
   "version": "3.10.4"
  },
  "orig_nbformat": 4,
  "vscode": {
   "interpreter": {
    "hash": "c05e784c37b7486e763435563ea73fc5884b3661493573245e31e915d866c156"
   }
  }
 },
 "nbformat": 4,
 "nbformat_minor": 2
}
