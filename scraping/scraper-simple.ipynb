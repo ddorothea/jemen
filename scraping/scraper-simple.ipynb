{
 "cells": [
  {
   "cell_type": "code",
   "execution_count": null,
   "metadata": {},
   "outputs": [],
   "source": [
    "data_dir = \"../data/\""
   ]
  },
  {
   "cell_type": "markdown",
   "metadata": {},
   "source": [
    "# FAZ"
   ]
  },
  {
   "cell_type": "code",
   "execution_count": null,
   "metadata": {},
   "outputs": [],
   "source": [
    "# wir generieren eine Liste von Links wobei jeder Link einer Seite in der Suchfunktion der faz zum schlagwort jemen entspricht (im gesamten text)\n",
    "c=0\n",
    "# eine liste wird mit eckigen klammern erstellt\n",
    "links = []\n",
    "# die schleife wird solange ausgeführt bis c größer als 2401 eins ist weil wir wissen, dass es nur so viele suchergebnisse gibt\n",
    "while c < 2401:\n",
    "    # der link mit dem aktuellen c wird generiert\n",
    "    tmplink = \"https://www.faz-biblionet.de/faz-portal/faz-archiv?q=Jemen&source=&max=30&sort=&offset=\"+str(c)+ \"&_ts=1659178290877&DT_from=25.03.2015&DT_to=29.07.2022&timeFilterType=0#hitlist\"\n",
    "    # der generierte link wird der liste angehängt\n",
    "    links.append(tmplink)\n",
    "\n",
    "    # die laufvariable c wird um 30 erhöht\n",
    "    c += 30\n",
    "\n"
   ]
  },
  {
   "cell_type": "code",
   "execution_count": null,
   "metadata": {},
   "outputs": [],
   "source": []
  },
  {
   "cell_type": "code",
   "execution_count": 15,
   "metadata": {},
   "outputs": [],
   "source": [
    "import time\n",
    "import requests\n",
    "\n",
    "# für jeden link in der liste links wird die schleife einmal ausgeführt, danach für 3 sek pausiert, weil wir menschen sind\n",
    "for link in links: \n",
    "    # der link wird beim server angefragt und der text der antwort in ein html dokument geschrieben, das im richtigen ordner abgespeichert wird\n",
    "    response = requests.get(link).text\n",
    "    filename = data_dir + \"faz/raw-search/\" + link.split(\"offset=\")[1].split(\"&\")[0] + \".html\"\n",
    "    with open(filename, \"w\") as file:\n",
    "        file.write(response)\n",
    "    time.sleep(3)"
   ]
  }
 ],
 "metadata": {
  "kernelspec": {
   "display_name": "Python 3.10.4 ('jemen-scraper')",
   "language": "python",
   "name": "python3"
  },
  "language_info": {
   "codemirror_mode": {
    "name": "ipython",
    "version": 3
   },
   "file_extension": ".py",
   "mimetype": "text/x-python",
   "name": "python",
   "nbconvert_exporter": "python",
   "pygments_lexer": "ipython3",
   "version": "3.10.4"
  },
  "orig_nbformat": 4,
  "vscode": {
   "interpreter": {
    "hash": "c05e784c37b7486e763435563ea73fc5884b3661493573245e31e915d866c156"
   }
  }
 },
 "nbformat": 4,
 "nbformat_minor": 2
}
